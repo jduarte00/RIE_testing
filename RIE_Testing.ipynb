{
  "nbformat": 4,
  "nbformat_minor": 0,
  "metadata": {
    "colab": {
      "name": "RIE-Testing.ipynb",
      "provenance": [],
      "collapsed_sections": []
    },
    "kernelspec": {
      "name": "python3",
      "display_name": "Python 3"
    },
    "language_info": {
      "name": "python"
    }
  },
  "cells": [
    {
      "cell_type": "code",
      "source": [
        "from google.colab import drive\n",
        "drive.mount('/content/drive')"
      ],
      "metadata": {
        "id": "ojSQ3jWtFpX_",
        "colab": {
          "base_uri": "https://localhost:8080/"
        },
        "outputId": "29f4b9ab-e5d2-41a8-e70c-5a8d5b9772ef"
      },
      "execution_count": 1,
      "outputs": [
        {
          "output_type": "stream",
          "name": "stdout",
          "text": [
            "Drive already mounted at /content/drive; to attempt to forcibly remount, call drive.mount(\"/content/drive\", force_remount=True).\n"
          ]
        }
      ]
    },
    {
      "cell_type": "code",
      "source": [
        "from __future__ import division, print_function\n",
        "from builtins import reversed\n",
        "from builtins import map, zip\n",
        "from collections import MutableSequence, Sequence\n",
        "import copy\n",
        "from math import ceil\n",
        "from numbers import Complex, Integral, Real\n",
        "import sys\n",
        "import warnings\n",
        "\n",
        "import numpy as np\n",
        "import pandas as pd\n",
        "from sklearn.covariance import EmpiricalCovariance\n",
        "from sklearn.preprocessing import StandardScaler\n",
        "from numpy import linalg as LA\n",
        "from statsmodels.tsa.stattools import adfuller"
      ],
      "metadata": {
        "id": "ic5upZ1aWSkH",
        "colab": {
          "base_uri": "https://localhost:8080/"
        },
        "outputId": "05037a07-e99f-44fd-8be9-f0437d3926af"
      },
      "execution_count": 2,
      "outputs": [
        {
          "output_type": "stream",
          "name": "stderr",
          "text": [
            "/usr/local/lib/python3.7/dist-packages/ipykernel_launcher.py:4: DeprecationWarning: Using or importing the ABCs from 'collections' instead of from 'collections.abc' is deprecated since Python 3.3,and in 3.9 it will stop working\n",
            "  after removing the cwd from sys.path.\n",
            "/usr/local/lib/python3.7/dist-packages/statsmodels/tools/_testing.py:19: FutureWarning: pandas.util.testing is deprecated. Use the functions in the public API at pandas.testing instead.\n",
            "  import pandas.util.testing as tm\n"
          ]
        }
      ]
    },
    {
      "cell_type": "code",
      "source": [
        "!pip install yfinance"
      ],
      "metadata": {
        "colab": {
          "base_uri": "https://localhost:8080/"
        },
        "id": "j8uZQUiBYD5y",
        "outputId": "ed69b66f-04f9-42e2-b2ed-adef6ca1cbfb"
      },
      "execution_count": 99,
      "outputs": [
        {
          "output_type": "stream",
          "name": "stdout",
          "text": [
            "Collecting yfinance\n",
            "  Downloading yfinance-0.1.70-py2.py3-none-any.whl (26 kB)\n",
            "Requirement already satisfied: multitasking>=0.0.7 in /usr/local/lib/python3.7/dist-packages (from yfinance) (0.0.10)\n",
            "Requirement already satisfied: numpy>=1.15 in /usr/local/lib/python3.7/dist-packages (from yfinance) (1.21.5)\n",
            "Collecting requests>=2.26\n",
            "  Downloading requests-2.27.1-py2.py3-none-any.whl (63 kB)\n",
            "\u001b[K     |████████████████████████████████| 63 kB 1.2 MB/s \n",
            "\u001b[?25hRequirement already satisfied: pandas>=0.24.0 in /usr/local/lib/python3.7/dist-packages (from yfinance) (1.3.5)\n",
            "Collecting lxml>=4.5.1\n",
            "  Downloading lxml-4.8.0-cp37-cp37m-manylinux_2_17_x86_64.manylinux2014_x86_64.manylinux_2_24_x86_64.whl (6.4 MB)\n",
            "\u001b[K     |████████████████████████████████| 6.4 MB 17.2 MB/s \n",
            "\u001b[?25hRequirement already satisfied: pytz>=2017.3 in /usr/local/lib/python3.7/dist-packages (from pandas>=0.24.0->yfinance) (2018.9)\n",
            "Requirement already satisfied: python-dateutil>=2.7.3 in /usr/local/lib/python3.7/dist-packages (from pandas>=0.24.0->yfinance) (2.8.2)\n",
            "Requirement already satisfied: six>=1.5 in /usr/local/lib/python3.7/dist-packages (from python-dateutil>=2.7.3->pandas>=0.24.0->yfinance) (1.15.0)\n",
            "Requirement already satisfied: urllib3<1.27,>=1.21.1 in /usr/local/lib/python3.7/dist-packages (from requests>=2.26->yfinance) (1.24.3)\n",
            "Requirement already satisfied: idna<4,>=2.5 in /usr/local/lib/python3.7/dist-packages (from requests>=2.26->yfinance) (2.10)\n",
            "Requirement already satisfied: certifi>=2017.4.17 in /usr/local/lib/python3.7/dist-packages (from requests>=2.26->yfinance) (2021.10.8)\n",
            "Requirement already satisfied: charset-normalizer~=2.0.0 in /usr/local/lib/python3.7/dist-packages (from requests>=2.26->yfinance) (2.0.12)\n",
            "Installing collected packages: requests, lxml, yfinance\n",
            "  Attempting uninstall: requests\n",
            "    Found existing installation: requests 2.23.0\n",
            "    Uninstalling requests-2.23.0:\n",
            "      Successfully uninstalled requests-2.23.0\n",
            "  Attempting uninstall: lxml\n",
            "    Found existing installation: lxml 4.2.6\n",
            "    Uninstalling lxml-4.2.6:\n",
            "      Successfully uninstalled lxml-4.2.6\n",
            "\u001b[31mERROR: pip's dependency resolver does not currently take into account all the packages that are installed. This behaviour is the source of the following dependency conflicts.\n",
            "google-colab 1.0.0 requires requests~=2.23.0, but you have requests 2.27.1 which is incompatible.\n",
            "datascience 0.10.6 requires folium==0.2.1, but you have folium 0.8.3 which is incompatible.\u001b[0m\n",
            "Successfully installed lxml-4.8.0 requests-2.27.1 yfinance-0.1.70\n"
          ]
        }
      ]
    },
    {
      "cell_type": "code",
      "source": [
        "import yfinance\n",
        "test_set = yfinance.download(['FB', 'AOS', 'ABT', 'GOOGL'], start=\"2020-01-01\", end = \"2021-12-31\")\n",
        "test_set['Close'].to_csv(\"./drive/MyDrive/Data/raw_data.csv\")\n",
        "returns = test_set['Close'].pct_change(periods=1).dropna()\n",
        "returns.to_csv(\"./drive/MyDrive/Data/returns.csv\")"
      ],
      "metadata": {
        "id": "JvR2ZjabXzPl",
        "colab": {
          "base_uri": "https://localhost:8080/"
        },
        "outputId": "a0600411-b25f-4b38-8dca-337332604c30"
      },
      "execution_count": 100,
      "outputs": [
        {
          "output_type": "stream",
          "name": "stdout",
          "text": [
            "[*********************100%***********************]  4 of 4 completed\n"
          ]
        }
      ]
    },
    {
      "cell_type": "code",
      "source": [
        "test_set['Close'].shape"
      ],
      "metadata": {
        "colab": {
          "base_uri": "https://localhost:8080/"
        },
        "id": "MFxNYdopZNvT",
        "outputId": "b01c5b0b-95f6-43af-81ad-42882dae607c"
      },
      "execution_count": null,
      "outputs": [
        {
          "output_type": "execute_result",
          "data": {
            "text/plain": [
              "(504, 4)"
            ]
          },
          "metadata": {},
          "execution_count": 144
        }
      ]
    },
    {
      "cell_type": "code",
      "source": [
        "returns.shape"
      ],
      "metadata": {
        "colab": {
          "base_uri": "https://localhost:8080/"
        },
        "id": "eYkjEGDGZJut",
        "outputId": "d6aae09c-6718-41ab-bf64-afcde43449f9"
      },
      "execution_count": null,
      "outputs": [
        {
          "output_type": "execute_result",
          "data": {
            "text/plain": [
              "(503, 4)"
            ]
          },
          "metadata": {},
          "execution_count": 145
        }
      ]
    },
    {
      "cell_type": "code",
      "source": [
        "returns = pd.read_csv(\"./drive/MyDrive/Data/returns.csv\", index_col = \"Date\")"
      ],
      "metadata": {
        "id": "EXc0DmvtbXr8"
      },
      "execution_count": 3,
      "outputs": []
    },
    {
      "cell_type": "code",
      "source": [
        "returns.head()"
      ],
      "metadata": {
        "colab": {
          "base_uri": "https://localhost:8080/",
          "height": 238
        },
        "id": "__4sOBuTvYp1",
        "outputId": "ce4b2550-0273-4ded-c746-21c0f0c1ae76"
      },
      "execution_count": 101,
      "outputs": [
        {
          "output_type": "execute_result",
          "data": {
            "text/plain": [
              "                 ABT       AOS        FB     GOOGL\n",
              "Date                                              \n",
              "2020-01-03 -0.012191 -0.008792 -0.005291 -0.005231\n",
              "2020-01-06  0.005239  0.006336  0.018834  0.026654\n",
              "2020-01-07 -0.005559 -0.006716  0.002164 -0.001932\n",
              "2020-01-08  0.004076 -0.001479  0.010138  0.007118\n",
              "2020-01-09  0.002668 -0.004443  0.014311  0.010498"
            ],
            "text/html": [
              "\n",
              "  <div id=\"df-9a957bf4-79ab-4980-a3c3-36c2aaad87be\">\n",
              "    <div class=\"colab-df-container\">\n",
              "      <div>\n",
              "<style scoped>\n",
              "    .dataframe tbody tr th:only-of-type {\n",
              "        vertical-align: middle;\n",
              "    }\n",
              "\n",
              "    .dataframe tbody tr th {\n",
              "        vertical-align: top;\n",
              "    }\n",
              "\n",
              "    .dataframe thead th {\n",
              "        text-align: right;\n",
              "    }\n",
              "</style>\n",
              "<table border=\"1\" class=\"dataframe\">\n",
              "  <thead>\n",
              "    <tr style=\"text-align: right;\">\n",
              "      <th></th>\n",
              "      <th>ABT</th>\n",
              "      <th>AOS</th>\n",
              "      <th>FB</th>\n",
              "      <th>GOOGL</th>\n",
              "    </tr>\n",
              "    <tr>\n",
              "      <th>Date</th>\n",
              "      <th></th>\n",
              "      <th></th>\n",
              "      <th></th>\n",
              "      <th></th>\n",
              "    </tr>\n",
              "  </thead>\n",
              "  <tbody>\n",
              "    <tr>\n",
              "      <th>2020-01-03</th>\n",
              "      <td>-0.012191</td>\n",
              "      <td>-0.008792</td>\n",
              "      <td>-0.005291</td>\n",
              "      <td>-0.005231</td>\n",
              "    </tr>\n",
              "    <tr>\n",
              "      <th>2020-01-06</th>\n",
              "      <td>0.005239</td>\n",
              "      <td>0.006336</td>\n",
              "      <td>0.018834</td>\n",
              "      <td>0.026654</td>\n",
              "    </tr>\n",
              "    <tr>\n",
              "      <th>2020-01-07</th>\n",
              "      <td>-0.005559</td>\n",
              "      <td>-0.006716</td>\n",
              "      <td>0.002164</td>\n",
              "      <td>-0.001932</td>\n",
              "    </tr>\n",
              "    <tr>\n",
              "      <th>2020-01-08</th>\n",
              "      <td>0.004076</td>\n",
              "      <td>-0.001479</td>\n",
              "      <td>0.010138</td>\n",
              "      <td>0.007118</td>\n",
              "    </tr>\n",
              "    <tr>\n",
              "      <th>2020-01-09</th>\n",
              "      <td>0.002668</td>\n",
              "      <td>-0.004443</td>\n",
              "      <td>0.014311</td>\n",
              "      <td>0.010498</td>\n",
              "    </tr>\n",
              "  </tbody>\n",
              "</table>\n",
              "</div>\n",
              "      <button class=\"colab-df-convert\" onclick=\"convertToInteractive('df-9a957bf4-79ab-4980-a3c3-36c2aaad87be')\"\n",
              "              title=\"Convert this dataframe to an interactive table.\"\n",
              "              style=\"display:none;\">\n",
              "        \n",
              "  <svg xmlns=\"http://www.w3.org/2000/svg\" height=\"24px\"viewBox=\"0 0 24 24\"\n",
              "       width=\"24px\">\n",
              "    <path d=\"M0 0h24v24H0V0z\" fill=\"none\"/>\n",
              "    <path d=\"M18.56 5.44l.94 2.06.94-2.06 2.06-.94-2.06-.94-.94-2.06-.94 2.06-2.06.94zm-11 1L8.5 8.5l.94-2.06 2.06-.94-2.06-.94L8.5 2.5l-.94 2.06-2.06.94zm10 10l.94 2.06.94-2.06 2.06-.94-2.06-.94-.94-2.06-.94 2.06-2.06.94z\"/><path d=\"M17.41 7.96l-1.37-1.37c-.4-.4-.92-.59-1.43-.59-.52 0-1.04.2-1.43.59L10.3 9.45l-7.72 7.72c-.78.78-.78 2.05 0 2.83L4 21.41c.39.39.9.59 1.41.59.51 0 1.02-.2 1.41-.59l7.78-7.78 2.81-2.81c.8-.78.8-2.07 0-2.86zM5.41 20L4 18.59l7.72-7.72 1.47 1.35L5.41 20z\"/>\n",
              "  </svg>\n",
              "      </button>\n",
              "      \n",
              "  <style>\n",
              "    .colab-df-container {\n",
              "      display:flex;\n",
              "      flex-wrap:wrap;\n",
              "      gap: 12px;\n",
              "    }\n",
              "\n",
              "    .colab-df-convert {\n",
              "      background-color: #E8F0FE;\n",
              "      border: none;\n",
              "      border-radius: 50%;\n",
              "      cursor: pointer;\n",
              "      display: none;\n",
              "      fill: #1967D2;\n",
              "      height: 32px;\n",
              "      padding: 0 0 0 0;\n",
              "      width: 32px;\n",
              "    }\n",
              "\n",
              "    .colab-df-convert:hover {\n",
              "      background-color: #E2EBFA;\n",
              "      box-shadow: 0px 1px 2px rgba(60, 64, 67, 0.3), 0px 1px 3px 1px rgba(60, 64, 67, 0.15);\n",
              "      fill: #174EA6;\n",
              "    }\n",
              "\n",
              "    [theme=dark] .colab-df-convert {\n",
              "      background-color: #3B4455;\n",
              "      fill: #D2E3FC;\n",
              "    }\n",
              "\n",
              "    [theme=dark] .colab-df-convert:hover {\n",
              "      background-color: #434B5C;\n",
              "      box-shadow: 0px 1px 3px 1px rgba(0, 0, 0, 0.15);\n",
              "      filter: drop-shadow(0px 1px 2px rgba(0, 0, 0, 0.3));\n",
              "      fill: #FFFFFF;\n",
              "    }\n",
              "  </style>\n",
              "\n",
              "      <script>\n",
              "        const buttonEl =\n",
              "          document.querySelector('#df-9a957bf4-79ab-4980-a3c3-36c2aaad87be button.colab-df-convert');\n",
              "        buttonEl.style.display =\n",
              "          google.colab.kernel.accessAllowed ? 'block' : 'none';\n",
              "\n",
              "        async function convertToInteractive(key) {\n",
              "          const element = document.querySelector('#df-9a957bf4-79ab-4980-a3c3-36c2aaad87be');\n",
              "          const dataTable =\n",
              "            await google.colab.kernel.invokeFunction('convertToInteractive',\n",
              "                                                     [key], {});\n",
              "          if (!dataTable) return;\n",
              "\n",
              "          const docLinkHtml = 'Like what you see? Visit the ' +\n",
              "            '<a target=\"_blank\" href=https://colab.research.google.com/notebooks/data_table.ipynb>data table notebook</a>'\n",
              "            + ' to learn more about interactive tables.';\n",
              "          element.innerHTML = '';\n",
              "          dataTable['output_type'] = 'display_data';\n",
              "          await google.colab.output.renderOutput(dataTable, element);\n",
              "          const docLink = document.createElement('div');\n",
              "          docLink.innerHTML = docLinkHtml;\n",
              "          element.appendChild(docLink);\n",
              "        }\n",
              "      </script>\n",
              "    </div>\n",
              "  </div>\n",
              "  "
            ]
          },
          "metadata": {},
          "execution_count": 101
        }
      ]
    },
    {
      "cell_type": "markdown",
      "source": [
        "La librería toma como input **los retornos diarios**. Hay una diferencia pequeña en la matriz de correlacioń muestral estimada, como puede verse en el resultado de la celda de arriba (correlación obtenida con numpy sobre los retornos) y la celda de abajo (correlación obtenida después de estandarizar los retornos con respecto a su varianza y obtener después la matriz de correlación con scikit learn)"
      ],
      "metadata": {
        "id": "ViJUYOa_cqz_"
      }
    },
    {
      "cell_type": "code",
      "source": [
        "X = StandardScaler(with_mean=False,\n",
        "                           with_std=True).fit_transform(returns)\n",
        "ec = EmpiricalCovariance(store_precision=False,\n",
        "                             assume_centered=True)\n",
        "ec.fit(X)\n",
        "E = ec.covariance_\n",
        "print(E)"
      ],
      "metadata": {
        "colab": {
          "base_uri": "https://localhost:8080/"
        },
        "id": "t1U2pNmqcK5-",
        "outputId": "5aa78fd8-45a0-47ff-af78-d08a07cf863e"
      },
      "execution_count": 5,
      "outputs": [
        {
          "output_type": "stream",
          "name": "stdout",
          "text": [
            "[[1.00340483 0.36876917 0.42016156]\n",
            " [0.36876917 1.00429765 0.3233594 ]\n",
            " [0.42016156 0.3233594  1.0027847 ]]\n"
          ]
        }
      ]
    },
    {
      "cell_type": "markdown",
      "source": [
        "Si se estandarizan primero los retornos con respecto a su desviación estándar y se estima la mat corr con numpy, se obtiene lo siguiente"
      ],
      "metadata": {
        "id": "3KdBFjckdSY9"
      }
    },
    {
      "cell_type": "code",
      "source": [
        "np.corrcoef(X.T)"
      ],
      "metadata": {
        "colab": {
          "base_uri": "https://localhost:8080/"
        },
        "id": "pPQSYOKCdaOZ",
        "outputId": "6cbb1afb-dd5b-4108-fedf-f8b29080d849"
      },
      "execution_count": 6,
      "outputs": [
        {
          "output_type": "execute_result",
          "data": {
            "text/plain": [
              "array([[1.        , 0.36494389, 0.41708236],\n",
              "       [0.36494389, 1.        , 0.31989997],\n",
              "       [0.41708236, 0.31989997, 1.        ]])"
            ]
          },
          "metadata": {},
          "execution_count": 6
        }
      ]
    },
    {
      "cell_type": "markdown",
      "source": [
        "Revisando ahora el resultado realizando la normalizaición de forma manual, notándo que la normalización que se está llevando a cabo en el paquete es dividir la columna entre su desviación estándar, cuando lo que se indica en el paper es que se debe utilizar la volatilidad seccional para cada día. "
      ],
      "metadata": {
        "id": "egwLGNYswBrn"
      }
    },
    {
      "cell_type": "code",
      "source": [
        "np.std(returns)"
      ],
      "metadata": {
        "colab": {
          "base_uri": "https://localhost:8080/"
        },
        "id": "qgEL4svOhnWJ",
        "outputId": "f61640bd-f400-4a92-f845-4dea555c46f6"
      },
      "execution_count": null,
      "outputs": [
        {
          "output_type": "execute_result",
          "data": {
            "text/plain": [
              "ABT    0.019856\n",
              "AOS    0.020923\n",
              "FB     0.024288\n",
              "dtype: float64"
            ]
          },
          "metadata": {},
          "execution_count": 28
        }
      ]
    },
    {
      "cell_type": "code",
      "source": [
        "returns.std()"
      ],
      "metadata": {
        "colab": {
          "base_uri": "https://localhost:8080/"
        },
        "id": "JvDbRPCrhvt4",
        "outputId": "97fbe817-7033-4f00-b864-9a992413343b"
      },
      "execution_count": null,
      "outputs": [
        {
          "output_type": "execute_result",
          "data": {
            "text/plain": [
              "ABT    0.019876\n",
              "AOS    0.020944\n",
              "FB     0.024313\n",
              "dtype: float64"
            ]
          },
          "metadata": {},
          "execution_count": 29
        }
      ]
    },
    {
      "cell_type": "code",
      "source": [
        "returns / np.std(returns)"
      ],
      "metadata": {
        "colab": {
          "base_uri": "https://localhost:8080/",
          "height": 455
        },
        "id": "rp0leOWYwAS-",
        "outputId": "59a6c640-7942-4d85-da27-c8512cf244b6"
      },
      "execution_count": null,
      "outputs": [
        {
          "output_type": "execute_result",
          "data": {
            "text/html": [
              "\n",
              "  <div id=\"df-7fc60287-4401-4de4-a383-58e638c54848\">\n",
              "    <div class=\"colab-df-container\">\n",
              "      <div>\n",
              "<style scoped>\n",
              "    .dataframe tbody tr th:only-of-type {\n",
              "        vertical-align: middle;\n",
              "    }\n",
              "\n",
              "    .dataframe tbody tr th {\n",
              "        vertical-align: top;\n",
              "    }\n",
              "\n",
              "    .dataframe thead th {\n",
              "        text-align: right;\n",
              "    }\n",
              "</style>\n",
              "<table border=\"1\" class=\"dataframe\">\n",
              "  <thead>\n",
              "    <tr style=\"text-align: right;\">\n",
              "      <th></th>\n",
              "      <th>ABT</th>\n",
              "      <th>AOS</th>\n",
              "      <th>FB</th>\n",
              "    </tr>\n",
              "    <tr>\n",
              "      <th>Date</th>\n",
              "      <th></th>\n",
              "      <th></th>\n",
              "      <th></th>\n",
              "    </tr>\n",
              "  </thead>\n",
              "  <tbody>\n",
              "    <tr>\n",
              "      <th>2020-01-03</th>\n",
              "      <td>-0.613973</td>\n",
              "      <td>-0.420210</td>\n",
              "      <td>-0.217852</td>\n",
              "    </tr>\n",
              "    <tr>\n",
              "      <th>2020-01-06</th>\n",
              "      <td>0.263864</td>\n",
              "      <td>0.302814</td>\n",
              "      <td>0.775417</td>\n",
              "    </tr>\n",
              "    <tr>\n",
              "      <th>2020-01-07</th>\n",
              "      <td>-0.279988</td>\n",
              "      <td>-0.320965</td>\n",
              "      <td>0.089082</td>\n",
              "    </tr>\n",
              "    <tr>\n",
              "      <th>2020-01-08</th>\n",
              "      <td>0.205300</td>\n",
              "      <td>-0.070689</td>\n",
              "      <td>0.417402</td>\n",
              "    </tr>\n",
              "    <tr>\n",
              "      <th>2020-01-09</th>\n",
              "      <td>0.134366</td>\n",
              "      <td>-0.212371</td>\n",
              "      <td>0.589210</td>\n",
              "    </tr>\n",
              "    <tr>\n",
              "      <th>...</th>\n",
              "      <td>...</td>\n",
              "      <td>...</td>\n",
              "      <td>...</td>\n",
              "    </tr>\n",
              "    <tr>\n",
              "      <th>2021-12-23</th>\n",
              "      <td>0.061599</td>\n",
              "      <td>0.685276</td>\n",
              "      <td>0.596801</td>\n",
              "    </tr>\n",
              "    <tr>\n",
              "      <th>2021-12-27</th>\n",
              "      <td>0.832392</td>\n",
              "      <td>1.114436</td>\n",
              "      <td>1.343579</td>\n",
              "    </tr>\n",
              "    <tr>\n",
              "      <th>2021-12-28</th>\n",
              "      <td>-0.352466</td>\n",
              "      <td>0.473989</td>\n",
              "      <td>0.004758</td>\n",
              "    </tr>\n",
              "    <tr>\n",
              "      <th>2021-12-29</th>\n",
              "      <td>0.258145</td>\n",
              "      <td>0.150855</td>\n",
              "      <td>-0.390053</td>\n",
              "    </tr>\n",
              "    <tr>\n",
              "      <th>2021-12-30</th>\n",
              "      <td>-0.067775</td>\n",
              "      <td>-0.289623</td>\n",
              "      <td>0.170477</td>\n",
              "    </tr>\n",
              "  </tbody>\n",
              "</table>\n",
              "<p>503 rows × 3 columns</p>\n",
              "</div>\n",
              "      <button class=\"colab-df-convert\" onclick=\"convertToInteractive('df-7fc60287-4401-4de4-a383-58e638c54848')\"\n",
              "              title=\"Convert this dataframe to an interactive table.\"\n",
              "              style=\"display:none;\">\n",
              "        \n",
              "  <svg xmlns=\"http://www.w3.org/2000/svg\" height=\"24px\"viewBox=\"0 0 24 24\"\n",
              "       width=\"24px\">\n",
              "    <path d=\"M0 0h24v24H0V0z\" fill=\"none\"/>\n",
              "    <path d=\"M18.56 5.44l.94 2.06.94-2.06 2.06-.94-2.06-.94-.94-2.06-.94 2.06-2.06.94zm-11 1L8.5 8.5l.94-2.06 2.06-.94-2.06-.94L8.5 2.5l-.94 2.06-2.06.94zm10 10l.94 2.06.94-2.06 2.06-.94-2.06-.94-.94-2.06-.94 2.06-2.06.94z\"/><path d=\"M17.41 7.96l-1.37-1.37c-.4-.4-.92-.59-1.43-.59-.52 0-1.04.2-1.43.59L10.3 9.45l-7.72 7.72c-.78.78-.78 2.05 0 2.83L4 21.41c.39.39.9.59 1.41.59.51 0 1.02-.2 1.41-.59l7.78-7.78 2.81-2.81c.8-.78.8-2.07 0-2.86zM5.41 20L4 18.59l7.72-7.72 1.47 1.35L5.41 20z\"/>\n",
              "  </svg>\n",
              "      </button>\n",
              "      \n",
              "  <style>\n",
              "    .colab-df-container {\n",
              "      display:flex;\n",
              "      flex-wrap:wrap;\n",
              "      gap: 12px;\n",
              "    }\n",
              "\n",
              "    .colab-df-convert {\n",
              "      background-color: #E8F0FE;\n",
              "      border: none;\n",
              "      border-radius: 50%;\n",
              "      cursor: pointer;\n",
              "      display: none;\n",
              "      fill: #1967D2;\n",
              "      height: 32px;\n",
              "      padding: 0 0 0 0;\n",
              "      width: 32px;\n",
              "    }\n",
              "\n",
              "    .colab-df-convert:hover {\n",
              "      background-color: #E2EBFA;\n",
              "      box-shadow: 0px 1px 2px rgba(60, 64, 67, 0.3), 0px 1px 3px 1px rgba(60, 64, 67, 0.15);\n",
              "      fill: #174EA6;\n",
              "    }\n",
              "\n",
              "    [theme=dark] .colab-df-convert {\n",
              "      background-color: #3B4455;\n",
              "      fill: #D2E3FC;\n",
              "    }\n",
              "\n",
              "    [theme=dark] .colab-df-convert:hover {\n",
              "      background-color: #434B5C;\n",
              "      box-shadow: 0px 1px 3px 1px rgba(0, 0, 0, 0.15);\n",
              "      filter: drop-shadow(0px 1px 2px rgba(0, 0, 0, 0.3));\n",
              "      fill: #FFFFFF;\n",
              "    }\n",
              "  </style>\n",
              "\n",
              "      <script>\n",
              "        const buttonEl =\n",
              "          document.querySelector('#df-7fc60287-4401-4de4-a383-58e638c54848 button.colab-df-convert');\n",
              "        buttonEl.style.display =\n",
              "          google.colab.kernel.accessAllowed ? 'block' : 'none';\n",
              "\n",
              "        async function convertToInteractive(key) {\n",
              "          const element = document.querySelector('#df-7fc60287-4401-4de4-a383-58e638c54848');\n",
              "          const dataTable =\n",
              "            await google.colab.kernel.invokeFunction('convertToInteractive',\n",
              "                                                     [key], {});\n",
              "          if (!dataTable) return;\n",
              "\n",
              "          const docLinkHtml = 'Like what you see? Visit the ' +\n",
              "            '<a target=\"_blank\" href=https://colab.research.google.com/notebooks/data_table.ipynb>data table notebook</a>'\n",
              "            + ' to learn more about interactive tables.';\n",
              "          element.innerHTML = '';\n",
              "          dataTable['output_type'] = 'display_data';\n",
              "          await google.colab.output.renderOutput(dataTable, element);\n",
              "          const docLink = document.createElement('div');\n",
              "          docLink.innerHTML = docLinkHtml;\n",
              "          element.appendChild(docLink);\n",
              "        }\n",
              "      </script>\n",
              "    </div>\n",
              "  </div>\n",
              "  "
            ],
            "text/plain": [
              "                 ABT       AOS        FB\n",
              "Date                                    \n",
              "2020-01-03 -0.613973 -0.420210 -0.217852\n",
              "2020-01-06  0.263864  0.302814  0.775417\n",
              "2020-01-07 -0.279988 -0.320965  0.089082\n",
              "2020-01-08  0.205300 -0.070689  0.417402\n",
              "2020-01-09  0.134366 -0.212371  0.589210\n",
              "...              ...       ...       ...\n",
              "2021-12-23  0.061599  0.685276  0.596801\n",
              "2021-12-27  0.832392  1.114436  1.343579\n",
              "2021-12-28 -0.352466  0.473989  0.004758\n",
              "2021-12-29  0.258145  0.150855 -0.390053\n",
              "2021-12-30 -0.067775 -0.289623  0.170477\n",
              "\n",
              "[503 rows x 3 columns]"
            ]
          },
          "metadata": {},
          "execution_count": 30
        }
      ]
    },
    {
      "cell_type": "code",
      "source": [
        "X"
      ],
      "metadata": {
        "colab": {
          "base_uri": "https://localhost:8080/"
        },
        "id": "laJy6EBiwZwC",
        "outputId": "d7f5f52d-8cb2-422a-8c8c-3537e4e41848"
      },
      "execution_count": null,
      "outputs": [
        {
          "output_type": "execute_result",
          "data": {
            "text/plain": [
              "array([[-0.61397259, -0.42021047, -0.21785166],\n",
              "       [ 0.26386431,  0.30281436,  0.77541671],\n",
              "       [-0.27998775, -0.32096481,  0.08908165],\n",
              "       ...,\n",
              "       [-0.35246632,  0.47398949,  0.00475831],\n",
              "       [ 0.25814477,  0.15085506, -0.39005268],\n",
              "       [-0.06777491, -0.28962325,  0.17047736]])"
            ]
          },
          "metadata": {},
          "execution_count": 8
        }
      ]
    },
    {
      "cell_type": "markdown",
      "source": [
        "A continuación se lleva a cabo la estandarización tal cual se sugiere por Bun"
      ],
      "metadata": {
        "id": "cAk07XVI1oAg"
      }
    },
    {
      "cell_type": "code",
      "source": [
        "# Se quita la media muestral de cada activo \n",
        "returns_wth_mean = returns - returns.mean()\n",
        "# Primero se obtiene el cuadrado de los retornos\n",
        "retornos_squared = returns_wth_mean**2\n",
        "suma_ret_sq = retornos_squared.sum(axis = 1)\n",
        "cross_sectional_volatility = np.sqrt(suma_ret_sq)\n",
        "cross_sectional_volatility.head()"
      ],
      "metadata": {
        "colab": {
          "base_uri": "https://localhost:8080/"
        },
        "id": "s7gBvpl21ugv",
        "outputId": "d2ccfd71-710c-402b-b256-74a010a85610"
      },
      "execution_count": 102,
      "outputs": [
        {
          "output_type": "execute_result",
          "data": {
            "text/plain": [
              "Date\n",
              "2020-01-03    0.019313\n",
              "2020-01-06    0.031165\n",
              "2020-01-07    0.011163\n",
              "2020-01-08    0.011147\n",
              "2020-01-09    0.016822\n",
              "dtype: float64"
            ]
          },
          "metadata": {},
          "execution_count": 102
        }
      ]
    },
    {
      "cell_type": "markdown",
      "source": [
        "Comprobación manual del cálculo dd la cross sectional volatility"
      ],
      "metadata": {
        "id": "f2xYmgB-3iUl"
      }
    },
    {
      "cell_type": "code",
      "source": [
        "returns_wth_mean.head(3)"
      ],
      "metadata": {
        "colab": {
          "base_uri": "https://localhost:8080/",
          "height": 175
        },
        "id": "CvE08O9XjSqG",
        "outputId": "e1572486-62d6-4af9-c0b0-39013920ed20"
      },
      "execution_count": 103,
      "outputs": [
        {
          "output_type": "execute_result",
          "data": {
            "text/plain": [
              "                 ABT       AOS        FB     GOOGL\n",
              "Date                                              \n",
              "2020-01-03 -0.013349 -0.010164 -0.006573 -0.006947\n",
              "2020-01-06  0.004081  0.004964  0.017552  0.024938\n",
              "2020-01-07 -0.006718 -0.008087  0.000882 -0.003648"
            ],
            "text/html": [
              "\n",
              "  <div id=\"df-96616591-b9c4-46bd-b277-778119c5e992\">\n",
              "    <div class=\"colab-df-container\">\n",
              "      <div>\n",
              "<style scoped>\n",
              "    .dataframe tbody tr th:only-of-type {\n",
              "        vertical-align: middle;\n",
              "    }\n",
              "\n",
              "    .dataframe tbody tr th {\n",
              "        vertical-align: top;\n",
              "    }\n",
              "\n",
              "    .dataframe thead th {\n",
              "        text-align: right;\n",
              "    }\n",
              "</style>\n",
              "<table border=\"1\" class=\"dataframe\">\n",
              "  <thead>\n",
              "    <tr style=\"text-align: right;\">\n",
              "      <th></th>\n",
              "      <th>ABT</th>\n",
              "      <th>AOS</th>\n",
              "      <th>FB</th>\n",
              "      <th>GOOGL</th>\n",
              "    </tr>\n",
              "    <tr>\n",
              "      <th>Date</th>\n",
              "      <th></th>\n",
              "      <th></th>\n",
              "      <th></th>\n",
              "      <th></th>\n",
              "    </tr>\n",
              "  </thead>\n",
              "  <tbody>\n",
              "    <tr>\n",
              "      <th>2020-01-03</th>\n",
              "      <td>-0.013349</td>\n",
              "      <td>-0.010164</td>\n",
              "      <td>-0.006573</td>\n",
              "      <td>-0.006947</td>\n",
              "    </tr>\n",
              "    <tr>\n",
              "      <th>2020-01-06</th>\n",
              "      <td>0.004081</td>\n",
              "      <td>0.004964</td>\n",
              "      <td>0.017552</td>\n",
              "      <td>0.024938</td>\n",
              "    </tr>\n",
              "    <tr>\n",
              "      <th>2020-01-07</th>\n",
              "      <td>-0.006718</td>\n",
              "      <td>-0.008087</td>\n",
              "      <td>0.000882</td>\n",
              "      <td>-0.003648</td>\n",
              "    </tr>\n",
              "  </tbody>\n",
              "</table>\n",
              "</div>\n",
              "      <button class=\"colab-df-convert\" onclick=\"convertToInteractive('df-96616591-b9c4-46bd-b277-778119c5e992')\"\n",
              "              title=\"Convert this dataframe to an interactive table.\"\n",
              "              style=\"display:none;\">\n",
              "        \n",
              "  <svg xmlns=\"http://www.w3.org/2000/svg\" height=\"24px\"viewBox=\"0 0 24 24\"\n",
              "       width=\"24px\">\n",
              "    <path d=\"M0 0h24v24H0V0z\" fill=\"none\"/>\n",
              "    <path d=\"M18.56 5.44l.94 2.06.94-2.06 2.06-.94-2.06-.94-.94-2.06-.94 2.06-2.06.94zm-11 1L8.5 8.5l.94-2.06 2.06-.94-2.06-.94L8.5 2.5l-.94 2.06-2.06.94zm10 10l.94 2.06.94-2.06 2.06-.94-2.06-.94-.94-2.06-.94 2.06-2.06.94z\"/><path d=\"M17.41 7.96l-1.37-1.37c-.4-.4-.92-.59-1.43-.59-.52 0-1.04.2-1.43.59L10.3 9.45l-7.72 7.72c-.78.78-.78 2.05 0 2.83L4 21.41c.39.39.9.59 1.41.59.51 0 1.02-.2 1.41-.59l7.78-7.78 2.81-2.81c.8-.78.8-2.07 0-2.86zM5.41 20L4 18.59l7.72-7.72 1.47 1.35L5.41 20z\"/>\n",
              "  </svg>\n",
              "      </button>\n",
              "      \n",
              "  <style>\n",
              "    .colab-df-container {\n",
              "      display:flex;\n",
              "      flex-wrap:wrap;\n",
              "      gap: 12px;\n",
              "    }\n",
              "\n",
              "    .colab-df-convert {\n",
              "      background-color: #E8F0FE;\n",
              "      border: none;\n",
              "      border-radius: 50%;\n",
              "      cursor: pointer;\n",
              "      display: none;\n",
              "      fill: #1967D2;\n",
              "      height: 32px;\n",
              "      padding: 0 0 0 0;\n",
              "      width: 32px;\n",
              "    }\n",
              "\n",
              "    .colab-df-convert:hover {\n",
              "      background-color: #E2EBFA;\n",
              "      box-shadow: 0px 1px 2px rgba(60, 64, 67, 0.3), 0px 1px 3px 1px rgba(60, 64, 67, 0.15);\n",
              "      fill: #174EA6;\n",
              "    }\n",
              "\n",
              "    [theme=dark] .colab-df-convert {\n",
              "      background-color: #3B4455;\n",
              "      fill: #D2E3FC;\n",
              "    }\n",
              "\n",
              "    [theme=dark] .colab-df-convert:hover {\n",
              "      background-color: #434B5C;\n",
              "      box-shadow: 0px 1px 3px 1px rgba(0, 0, 0, 0.15);\n",
              "      filter: drop-shadow(0px 1px 2px rgba(0, 0, 0, 0.3));\n",
              "      fill: #FFFFFF;\n",
              "    }\n",
              "  </style>\n",
              "\n",
              "      <script>\n",
              "        const buttonEl =\n",
              "          document.querySelector('#df-96616591-b9c4-46bd-b277-778119c5e992 button.colab-df-convert');\n",
              "        buttonEl.style.display =\n",
              "          google.colab.kernel.accessAllowed ? 'block' : 'none';\n",
              "\n",
              "        async function convertToInteractive(key) {\n",
              "          const element = document.querySelector('#df-96616591-b9c4-46bd-b277-778119c5e992');\n",
              "          const dataTable =\n",
              "            await google.colab.kernel.invokeFunction('convertToInteractive',\n",
              "                                                     [key], {});\n",
              "          if (!dataTable) return;\n",
              "\n",
              "          const docLinkHtml = 'Like what you see? Visit the ' +\n",
              "            '<a target=\"_blank\" href=https://colab.research.google.com/notebooks/data_table.ipynb>data table notebook</a>'\n",
              "            + ' to learn more about interactive tables.';\n",
              "          element.innerHTML = '';\n",
              "          dataTable['output_type'] = 'display_data';\n",
              "          await google.colab.output.renderOutput(dataTable, element);\n",
              "          const docLink = document.createElement('div');\n",
              "          docLink.innerHTML = docLinkHtml;\n",
              "          element.appendChild(docLink);\n",
              "        }\n",
              "      </script>\n",
              "    </div>\n",
              "  </div>\n",
              "  "
            ]
          },
          "metadata": {},
          "execution_count": 103
        }
      ]
    },
    {
      "cell_type": "code",
      "source": [
        "np.sqrt((-0.013349)**2+(-0.010164)**2+(-0.006573)**2)"
      ],
      "metadata": {
        "colab": {
          "base_uri": "https://localhost:8080/"
        },
        "id": "XNI3P5PL3Bzh",
        "outputId": "517710e3-ad13-4af6-a768-6d5c53620988"
      },
      "execution_count": 104,
      "outputs": [
        {
          "output_type": "execute_result",
          "data": {
            "text/plain": [
              "0.018019628908498644"
            ]
          },
          "metadata": {},
          "execution_count": 104
        }
      ]
    },
    {
      "cell_type": "markdown",
      "source": [
        "Aplicación de la estandarización mediante la división de la cross sectional volatiliy para poder obtener $\\tilde{r_{it}} := \\frac{r_{it}}{\\hat{\\sigma_{it}}}$"
      ],
      "metadata": {
        "id": "hH8Xnvje5J9E"
      }
    },
    {
      "cell_type": "code",
      "source": [
        "standardized_returns = returns_wth_mean.divide(cross_sectional_volatility, axis = 0)\n",
        "standardized_returns.head()"
      ],
      "metadata": {
        "colab": {
          "base_uri": "https://localhost:8080/",
          "height": 238
        },
        "id": "GFqT1GGI4O-6",
        "outputId": "6460f93c-3586-4d34-f2f4-94210d46db80"
      },
      "execution_count": 105,
      "outputs": [
        {
          "output_type": "execute_result",
          "data": {
            "text/plain": [
              "                 ABT       AOS        FB     GOOGL\n",
              "Date                                              \n",
              "2020-01-03 -0.691229 -0.526277 -0.340344 -0.359723\n",
              "2020-01-06  0.130935  0.159286  0.563187  0.800190\n",
              "2020-01-07 -0.601795 -0.724458  0.079004 -0.326745\n",
              "2020-01-08  0.261756 -0.255739  0.794505  0.484606\n",
              "2020-01-09  0.089724 -0.345687  0.774536  0.522057"
            ],
            "text/html": [
              "\n",
              "  <div id=\"df-9195629a-5db8-4b89-9a4b-64d3db802067\">\n",
              "    <div class=\"colab-df-container\">\n",
              "      <div>\n",
              "<style scoped>\n",
              "    .dataframe tbody tr th:only-of-type {\n",
              "        vertical-align: middle;\n",
              "    }\n",
              "\n",
              "    .dataframe tbody tr th {\n",
              "        vertical-align: top;\n",
              "    }\n",
              "\n",
              "    .dataframe thead th {\n",
              "        text-align: right;\n",
              "    }\n",
              "</style>\n",
              "<table border=\"1\" class=\"dataframe\">\n",
              "  <thead>\n",
              "    <tr style=\"text-align: right;\">\n",
              "      <th></th>\n",
              "      <th>ABT</th>\n",
              "      <th>AOS</th>\n",
              "      <th>FB</th>\n",
              "      <th>GOOGL</th>\n",
              "    </tr>\n",
              "    <tr>\n",
              "      <th>Date</th>\n",
              "      <th></th>\n",
              "      <th></th>\n",
              "      <th></th>\n",
              "      <th></th>\n",
              "    </tr>\n",
              "  </thead>\n",
              "  <tbody>\n",
              "    <tr>\n",
              "      <th>2020-01-03</th>\n",
              "      <td>-0.691229</td>\n",
              "      <td>-0.526277</td>\n",
              "      <td>-0.340344</td>\n",
              "      <td>-0.359723</td>\n",
              "    </tr>\n",
              "    <tr>\n",
              "      <th>2020-01-06</th>\n",
              "      <td>0.130935</td>\n",
              "      <td>0.159286</td>\n",
              "      <td>0.563187</td>\n",
              "      <td>0.800190</td>\n",
              "    </tr>\n",
              "    <tr>\n",
              "      <th>2020-01-07</th>\n",
              "      <td>-0.601795</td>\n",
              "      <td>-0.724458</td>\n",
              "      <td>0.079004</td>\n",
              "      <td>-0.326745</td>\n",
              "    </tr>\n",
              "    <tr>\n",
              "      <th>2020-01-08</th>\n",
              "      <td>0.261756</td>\n",
              "      <td>-0.255739</td>\n",
              "      <td>0.794505</td>\n",
              "      <td>0.484606</td>\n",
              "    </tr>\n",
              "    <tr>\n",
              "      <th>2020-01-09</th>\n",
              "      <td>0.089724</td>\n",
              "      <td>-0.345687</td>\n",
              "      <td>0.774536</td>\n",
              "      <td>0.522057</td>\n",
              "    </tr>\n",
              "  </tbody>\n",
              "</table>\n",
              "</div>\n",
              "      <button class=\"colab-df-convert\" onclick=\"convertToInteractive('df-9195629a-5db8-4b89-9a4b-64d3db802067')\"\n",
              "              title=\"Convert this dataframe to an interactive table.\"\n",
              "              style=\"display:none;\">\n",
              "        \n",
              "  <svg xmlns=\"http://www.w3.org/2000/svg\" height=\"24px\"viewBox=\"0 0 24 24\"\n",
              "       width=\"24px\">\n",
              "    <path d=\"M0 0h24v24H0V0z\" fill=\"none\"/>\n",
              "    <path d=\"M18.56 5.44l.94 2.06.94-2.06 2.06-.94-2.06-.94-.94-2.06-.94 2.06-2.06.94zm-11 1L8.5 8.5l.94-2.06 2.06-.94-2.06-.94L8.5 2.5l-.94 2.06-2.06.94zm10 10l.94 2.06.94-2.06 2.06-.94-2.06-.94-.94-2.06-.94 2.06-2.06.94z\"/><path d=\"M17.41 7.96l-1.37-1.37c-.4-.4-.92-.59-1.43-.59-.52 0-1.04.2-1.43.59L10.3 9.45l-7.72 7.72c-.78.78-.78 2.05 0 2.83L4 21.41c.39.39.9.59 1.41.59.51 0 1.02-.2 1.41-.59l7.78-7.78 2.81-2.81c.8-.78.8-2.07 0-2.86zM5.41 20L4 18.59l7.72-7.72 1.47 1.35L5.41 20z\"/>\n",
              "  </svg>\n",
              "      </button>\n",
              "      \n",
              "  <style>\n",
              "    .colab-df-container {\n",
              "      display:flex;\n",
              "      flex-wrap:wrap;\n",
              "      gap: 12px;\n",
              "    }\n",
              "\n",
              "    .colab-df-convert {\n",
              "      background-color: #E8F0FE;\n",
              "      border: none;\n",
              "      border-radius: 50%;\n",
              "      cursor: pointer;\n",
              "      display: none;\n",
              "      fill: #1967D2;\n",
              "      height: 32px;\n",
              "      padding: 0 0 0 0;\n",
              "      width: 32px;\n",
              "    }\n",
              "\n",
              "    .colab-df-convert:hover {\n",
              "      background-color: #E2EBFA;\n",
              "      box-shadow: 0px 1px 2px rgba(60, 64, 67, 0.3), 0px 1px 3px 1px rgba(60, 64, 67, 0.15);\n",
              "      fill: #174EA6;\n",
              "    }\n",
              "\n",
              "    [theme=dark] .colab-df-convert {\n",
              "      background-color: #3B4455;\n",
              "      fill: #D2E3FC;\n",
              "    }\n",
              "\n",
              "    [theme=dark] .colab-df-convert:hover {\n",
              "      background-color: #434B5C;\n",
              "      box-shadow: 0px 1px 3px 1px rgba(0, 0, 0, 0.15);\n",
              "      filter: drop-shadow(0px 1px 2px rgba(0, 0, 0, 0.3));\n",
              "      fill: #FFFFFF;\n",
              "    }\n",
              "  </style>\n",
              "\n",
              "      <script>\n",
              "        const buttonEl =\n",
              "          document.querySelector('#df-9195629a-5db8-4b89-9a4b-64d3db802067 button.colab-df-convert');\n",
              "        buttonEl.style.display =\n",
              "          google.colab.kernel.accessAllowed ? 'block' : 'none';\n",
              "\n",
              "        async function convertToInteractive(key) {\n",
              "          const element = document.querySelector('#df-9195629a-5db8-4b89-9a4b-64d3db802067');\n",
              "          const dataTable =\n",
              "            await google.colab.kernel.invokeFunction('convertToInteractive',\n",
              "                                                     [key], {});\n",
              "          if (!dataTable) return;\n",
              "\n",
              "          const docLinkHtml = 'Like what you see? Visit the ' +\n",
              "            '<a target=\"_blank\" href=https://colab.research.google.com/notebooks/data_table.ipynb>data table notebook</a>'\n",
              "            + ' to learn more about interactive tables.';\n",
              "          element.innerHTML = '';\n",
              "          dataTable['output_type'] = 'display_data';\n",
              "          await google.colab.output.renderOutput(dataTable, element);\n",
              "          const docLink = document.createElement('div');\n",
              "          docLink.innerHTML = docLinkHtml;\n",
              "          element.appendChild(docLink);\n",
              "        }\n",
              "      </script>\n",
              "    </div>\n",
              "  </div>\n",
              "  "
            ]
          },
          "metadata": {},
          "execution_count": 105
        }
      ]
    },
    {
      "cell_type": "markdown",
      "source": [
        "Comprobación manual de la obtención de $\\tilde{r}_{it}$"
      ],
      "metadata": {
        "id": "7hkdYddljnZ-"
      }
    },
    {
      "cell_type": "code",
      "source": [
        "print(-0.013349 / 0.018020 ) \n",
        "print( 0.004081/ 0.018691)\n",
        "print(-0.006718/0.010551)"
      ],
      "metadata": {
        "colab": {
          "base_uri": "https://localhost:8080/"
        },
        "id": "Wc31E55pjmE9",
        "outputId": "47e29fb6-01a6-49e6-c391-27f9d63428d0"
      },
      "execution_count": 106,
      "outputs": [
        {
          "output_type": "stream",
          "name": "stdout",
          "text": [
            "-0.7407880133185349\n",
            "0.21834037772189827\n",
            "-0.6367168988721449\n"
          ]
        }
      ]
    },
    {
      "cell_type": "markdown",
      "source": [
        "Se supone que esta primer transformación tiene por objetivo quitar estacionalidad de los retornos, por lo tanto se revisan a continuación como se ven los retornos originales"
      ],
      "metadata": {
        "id": "pA0JasLLDNHH"
      }
    },
    {
      "cell_type": "code",
      "source": [
        "returns.plot()"
      ],
      "metadata": {
        "colab": {
          "base_uri": "https://localhost:8080/",
          "height": 297
        },
        "id": "f4W1LLEEDYZI",
        "outputId": "cee2d845-3930-4df5-a093-3b0fc7fec2c6"
      },
      "execution_count": 25,
      "outputs": [
        {
          "output_type": "execute_result",
          "data": {
            "text/plain": [
              "<matplotlib.axes._subplots.AxesSubplot at 0x7f07309554d0>"
            ]
          },
          "metadata": {},
          "execution_count": 25
        },
        {
          "output_type": "display_data",
          "data": {
            "text/plain": [
              "<Figure size 432x288 with 1 Axes>"
            ],
            "image/png": "[encoded data removed]"
          },
          "metadata": {
            "needs_background": "light"
          }
        }
      ]
    },
    {
      "cell_type": "code",
      "source": [
        "dicky_fuller_returns = adfuller(returns['ABT'])\n",
        "print('ADF Statistic: %f' % dicky_fuller_returns[0])\n",
        "print('p-value: %f' % dicky_fuller_returns[1])\n",
        "print('Critical Values:')\n",
        "for key, value in dicky_fuller_returns[4].items():\n",
        "\tprint('\\t%s: %.3f' % (key, value))"
      ],
      "metadata": {
        "colab": {
          "base_uri": "https://localhost:8080/"
        },
        "id": "-e_vdBB5D51Y",
        "outputId": "dbd9a2cf-2af5-444b-dece-c55f775728c3"
      },
      "execution_count": 107,
      "outputs": [
        {
          "output_type": "stream",
          "name": "stdout",
          "text": [
            "ADF Statistic: -7.033275\n",
            "p-value: 0.000000\n",
            "Critical Values:\n",
            "\t1%: -3.444\n",
            "\t5%: -2.867\n",
            "\t10%: -2.570\n"
          ]
        }
      ]
    },
    {
      "cell_type": "code",
      "source": [
        "standardized_returns.plot()"
      ],
      "metadata": {
        "colab": {
          "base_uri": "https://localhost:8080/",
          "height": 295
        },
        "id": "Eu3h90lHERL3",
        "outputId": "abb560ad-b865-4672-c772-9ee6c5edca0a"
      },
      "execution_count": 108,
      "outputs": [
        {
          "output_type": "execute_result",
          "data": {
            "text/plain": [
              "<matplotlib.axes._subplots.AxesSubplot at 0x7f072b813650>"
            ]
          },
          "metadata": {},
          "execution_count": 108
        },
        {
          "output_type": "display_data",
          "data": {
            "text/plain": [
              "<Figure size 432x288 with 1 Axes>"
            ],
            "image/png": "[encoded data removed]"
          },
          "metadata": {
            "needs_background": "light"
          }
        }
      ]
    },
    {
      "cell_type": "code",
      "source": [
        "dicky_fuller_returns = adfuller(standardized_returns['ABT'])\n",
        "print('ADF Statistic: %f' % dicky_fuller_returns[0])\n",
        "print('p-value: %f' % dicky_fuller_returns[1])\n",
        "print('Critical Values:')\n",
        "for key, value in dicky_fuller_returns[4].items():\n",
        "\tprint('\\t%s: %.3f' % (key, value))"
      ],
      "metadata": {
        "colab": {
          "base_uri": "https://localhost:8080/"
        },
        "id": "ozexh4UBEuCb",
        "outputId": "2f23b751-c009-4826-9ec9-21cbac295164"
      },
      "execution_count": 30,
      "outputs": [
        {
          "output_type": "stream",
          "name": "stdout",
          "text": [
            "ADF Statistic: -25.691888\n",
            "p-value: 0.000000\n",
            "Critical Values:\n",
            "\t1%: -3.443\n",
            "\t5%: -2.867\n",
            "\t10%: -2.570\n"
          ]
        }
      ]
    },
    {
      "cell_type": "markdown",
      "source": [
        "Se puede observar en la gráfica que se quitan los \"picos\" y en efecto la serie se vuelve aún \"menos estacionaria\", pues según este estadístico, los retornos originales no tenían estacionariedad de entrada. El estadístico también se vuelve \"más negativo\", lo que confirma lo mismo que en la gráfica."
      ],
      "metadata": {
        "id": "drq_VQ6qE3ZS"
      }
    },
    {
      "cell_type": "markdown",
      "source": [
        "Por último , se divide $\\tilde{r}$ entre $\\sigma_i$ (que es la volatilidad de los retornos ya estandarizados, es decir, de $\\tilde{r}$, entendida como la desviación estándar) para obtener la matriz $X:= \\frac{\\tilde{r}_{it}}{\\sigma_i}$"
      ],
      "metadata": {
        "id": "6LyJ9K5dB51F"
      }
    },
    {
      "cell_type": "code",
      "source": [
        "final_X = standardized_returns /  standardized_returns.std()\n",
        "final_X.head()"
      ],
      "metadata": {
        "colab": {
          "base_uri": "https://localhost:8080/",
          "height": 238
        },
        "id": "UVMXxnXkB4uo",
        "outputId": "1bf4c7b5-a276-46b4-c4ac-95e41e213bd2"
      },
      "execution_count": 109,
      "outputs": [
        {
          "output_type": "execute_result",
          "data": {
            "text/plain": [
              "                 ABT       AOS        FB     GOOGL\n",
              "Date                                              \n",
              "2020-01-03 -1.473667 -1.012529 -0.613362 -0.798265\n",
              "2020-01-06  0.279147  0.306458  1.014965  1.775709\n",
              "2020-01-07 -1.282998 -1.393819  0.142380 -0.725083\n",
              "2020-01-08  0.558052 -0.492028  1.431843  1.075394\n",
              "2020-01-09  0.191288 -0.665083  1.395855  1.158502"
            ],
            "text/html": [
              "\n",
              "  <div id=\"df-3017651d-199d-4106-9f17-9bf4f9c877ac\">\n",
              "    <div class=\"colab-df-container\">\n",
              "      <div>\n",
              "<style scoped>\n",
              "    .dataframe tbody tr th:only-of-type {\n",
              "        vertical-align: middle;\n",
              "    }\n",
              "\n",
              "    .dataframe tbody tr th {\n",
              "        vertical-align: top;\n",
              "    }\n",
              "\n",
              "    .dataframe thead th {\n",
              "        text-align: right;\n",
              "    }\n",
              "</style>\n",
              "<table border=\"1\" class=\"dataframe\">\n",
              "  <thead>\n",
              "    <tr style=\"text-align: right;\">\n",
              "      <th></th>\n",
              "      <th>ABT</th>\n",
              "      <th>AOS</th>\n",
              "      <th>FB</th>\n",
              "      <th>GOOGL</th>\n",
              "    </tr>\n",
              "    <tr>\n",
              "      <th>Date</th>\n",
              "      <th></th>\n",
              "      <th></th>\n",
              "      <th></th>\n",
              "      <th></th>\n",
              "    </tr>\n",
              "  </thead>\n",
              "  <tbody>\n",
              "    <tr>\n",
              "      <th>2020-01-03</th>\n",
              "      <td>-1.473667</td>\n",
              "      <td>-1.012529</td>\n",
              "      <td>-0.613362</td>\n",
              "      <td>-0.798265</td>\n",
              "    </tr>\n",
              "    <tr>\n",
              "      <th>2020-01-06</th>\n",
              "      <td>0.279147</td>\n",
              "      <td>0.306458</td>\n",
              "      <td>1.014965</td>\n",
              "      <td>1.775709</td>\n",
              "    </tr>\n",
              "    <tr>\n",
              "      <th>2020-01-07</th>\n",
              "      <td>-1.282998</td>\n",
              "      <td>-1.393819</td>\n",
              "      <td>0.142380</td>\n",
              "      <td>-0.725083</td>\n",
              "    </tr>\n",
              "    <tr>\n",
              "      <th>2020-01-08</th>\n",
              "      <td>0.558052</td>\n",
              "      <td>-0.492028</td>\n",
              "      <td>1.431843</td>\n",
              "      <td>1.075394</td>\n",
              "    </tr>\n",
              "    <tr>\n",
              "      <th>2020-01-09</th>\n",
              "      <td>0.191288</td>\n",
              "      <td>-0.665083</td>\n",
              "      <td>1.395855</td>\n",
              "      <td>1.158502</td>\n",
              "    </tr>\n",
              "  </tbody>\n",
              "</table>\n",
              "</div>\n",
              "      <button class=\"colab-df-convert\" onclick=\"convertToInteractive('df-3017651d-199d-4106-9f17-9bf4f9c877ac')\"\n",
              "              title=\"Convert this dataframe to an interactive table.\"\n",
              "              style=\"display:none;\">\n",
              "        \n",
              "  <svg xmlns=\"http://www.w3.org/2000/svg\" height=\"24px\"viewBox=\"0 0 24 24\"\n",
              "       width=\"24px\">\n",
              "    <path d=\"M0 0h24v24H0V0z\" fill=\"none\"/>\n",
              "    <path d=\"M18.56 5.44l.94 2.06.94-2.06 2.06-.94-2.06-.94-.94-2.06-.94 2.06-2.06.94zm-11 1L8.5 8.5l.94-2.06 2.06-.94-2.06-.94L8.5 2.5l-.94 2.06-2.06.94zm10 10l.94 2.06.94-2.06 2.06-.94-2.06-.94-.94-2.06-.94 2.06-2.06.94z\"/><path d=\"M17.41 7.96l-1.37-1.37c-.4-.4-.92-.59-1.43-.59-.52 0-1.04.2-1.43.59L10.3 9.45l-7.72 7.72c-.78.78-.78 2.05 0 2.83L4 21.41c.39.39.9.59 1.41.59.51 0 1.02-.2 1.41-.59l7.78-7.78 2.81-2.81c.8-.78.8-2.07 0-2.86zM5.41 20L4 18.59l7.72-7.72 1.47 1.35L5.41 20z\"/>\n",
              "  </svg>\n",
              "      </button>\n",
              "      \n",
              "  <style>\n",
              "    .colab-df-container {\n",
              "      display:flex;\n",
              "      flex-wrap:wrap;\n",
              "      gap: 12px;\n",
              "    }\n",
              "\n",
              "    .colab-df-convert {\n",
              "      background-color: #E8F0FE;\n",
              "      border: none;\n",
              "      border-radius: 50%;\n",
              "      cursor: pointer;\n",
              "      display: none;\n",
              "      fill: #1967D2;\n",
              "      height: 32px;\n",
              "      padding: 0 0 0 0;\n",
              "      width: 32px;\n",
              "    }\n",
              "\n",
              "    .colab-df-convert:hover {\n",
              "      background-color: #E2EBFA;\n",
              "      box-shadow: 0px 1px 2px rgba(60, 64, 67, 0.3), 0px 1px 3px 1px rgba(60, 64, 67, 0.15);\n",
              "      fill: #174EA6;\n",
              "    }\n",
              "\n",
              "    [theme=dark] .colab-df-convert {\n",
              "      background-color: #3B4455;\n",
              "      fill: #D2E3FC;\n",
              "    }\n",
              "\n",
              "    [theme=dark] .colab-df-convert:hover {\n",
              "      background-color: #434B5C;\n",
              "      box-shadow: 0px 1px 3px 1px rgba(0, 0, 0, 0.15);\n",
              "      filter: drop-shadow(0px 1px 2px rgba(0, 0, 0, 0.3));\n",
              "      fill: #FFFFFF;\n",
              "    }\n",
              "  </style>\n",
              "\n",
              "      <script>\n",
              "        const buttonEl =\n",
              "          document.querySelector('#df-3017651d-199d-4106-9f17-9bf4f9c877ac button.colab-df-convert');\n",
              "        buttonEl.style.display =\n",
              "          google.colab.kernel.accessAllowed ? 'block' : 'none';\n",
              "\n",
              "        async function convertToInteractive(key) {\n",
              "          const element = document.querySelector('#df-3017651d-199d-4106-9f17-9bf4f9c877ac');\n",
              "          const dataTable =\n",
              "            await google.colab.kernel.invokeFunction('convertToInteractive',\n",
              "                                                     [key], {});\n",
              "          if (!dataTable) return;\n",
              "\n",
              "          const docLinkHtml = 'Like what you see? Visit the ' +\n",
              "            '<a target=\"_blank\" href=https://colab.research.google.com/notebooks/data_table.ipynb>data table notebook</a>'\n",
              "            + ' to learn more about interactive tables.';\n",
              "          element.innerHTML = '';\n",
              "          dataTable['output_type'] = 'display_data';\n",
              "          await google.colab.output.renderOutput(dataTable, element);\n",
              "          const docLink = document.createElement('div');\n",
              "          docLink.innerHTML = docLinkHtml;\n",
              "          element.appendChild(docLink);\n",
              "        }\n",
              "      </script>\n",
              "    </div>\n",
              "  </div>\n",
              "  "
            ]
          },
          "metadata": {},
          "execution_count": 109
        }
      ]
    },
    {
      "cell_type": "code",
      "source": [
        "final_X.shape"
      ],
      "metadata": {
        "colab": {
          "base_uri": "https://localhost:8080/"
        },
        "id": "BeX-mc_gC9Ln",
        "outputId": "f9eefd1e-a999-4ce8-99af-b90162b26b53"
      },
      "execution_count": 32,
      "outputs": [
        {
          "output_type": "execute_result",
          "data": {
            "text/plain": [
              "(503, 3)"
            ]
          },
          "metadata": {},
          "execution_count": 32
        }
      ]
    },
    {
      "cell_type": "markdown",
      "source": [
        "\n",
        "\n",
        "---\n",
        "\n"
      ],
      "metadata": {
        "id": "fGgh9u1CnBUv"
      }
    },
    {
      "cell_type": "markdown",
      "source": [
        "A continuación se comprueba que la forma de calcular la matriz $E$ (ecuacioń 1) es la misma que la implementada en en numpy.corrcoef, solo que esta última añade algunas modificaciones para obtener unos exactos en la diagonal y disminuir errores de redondeo, que son lo que causa que haya variaciones entre las dos matrices de correlación estimadas. En cuanto a la expresión de la matriz de correlación muestral como suma de productos de matrices de eigenvalues y eigenvectors (ecuación 2), es posible observar que la aproximación no es exacta."
      ],
      "metadata": {
        "id": "OIK7awkwJHEW"
      }
    },
    {
      "cell_type": "code",
      "source": [
        "np.corrcoef(final_X.T)"
      ],
      "metadata": {
        "colab": {
          "base_uri": "https://localhost:8080/"
        },
        "id": "s0Y2K0PuG2w4",
        "outputId": "fd6fed7b-f24e-42cb-a85c-b5f2b1008f9f"
      },
      "execution_count": 34,
      "outputs": [
        {
          "output_type": "execute_result",
          "data": {
            "text/plain": [
              "array([[1.        , 0.090652  , 0.16021267],\n",
              "       [0.090652  , 1.        , 0.1394979 ],\n",
              "       [0.16021267, 0.1394979 , 1.        ]])"
            ]
          },
          "metadata": {},
          "execution_count": 34
        }
      ]
    },
    {
      "cell_type": "code",
      "source": [
        "((final_X.T @ final_X)* (1/final_X.shape[0])).to_numpy()"
      ],
      "metadata": {
        "colab": {
          "base_uri": "https://localhost:8080/"
        },
        "id": "I5oOOPFBG8X3",
        "outputId": "b5cb0a61-314a-491e-ffb6-99bc31a14fc3"
      },
      "execution_count": 35,
      "outputs": [
        {
          "output_type": "execute_result",
          "data": {
            "text/plain": [
              "array([[0.99913339, 0.09008402, 0.16065973],\n",
              "       [0.09008402, 0.998146  , 0.13895586],\n",
              "       [0.16065973, 0.13895586, 0.99853456]])"
            ]
          },
          "metadata": {},
          "execution_count": 35
        }
      ]
    },
    {
      "cell_type": "code",
      "source": [
        "ei_vals, ei_vect = LA.eig(((final_X.T @ final_X)* (1/final_X.shape[0])).to_numpy())"
      ],
      "metadata": {
        "id": "EqZRsg0uvATc"
      },
      "execution_count": 36,
      "outputs": []
    },
    {
      "cell_type": "code",
      "source": [
        "mat_E_eigen = np.zeros((3, 3), dtype=float)\n",
        "for i in range(len(ei_vect)):\n",
        "  temp = ei_vals[i]*(np.atleast_2d(ei_vect[i]).T @ np.atleast_2d(ei_vect[i]))\n",
        "  mat_E_eigen = mat_E_eigen + temp\n",
        "mat_E_eigen"
      ],
      "metadata": {
        "colab": {
          "base_uri": "https://localhost:8080/"
        },
        "id": "oiuWVCk_JuMT",
        "outputId": "7e0f9536-7294-41f9-a227-bcec6707a508"
      },
      "execution_count": 37,
      "outputs": [
        {
          "output_type": "execute_result",
          "data": {
            "text/plain": [
              "array([[0.99000629, 0.11947767, 0.14821828],\n",
              "       [0.11947767, 1.04514467, 0.12309487],\n",
              "       [0.14821828, 0.12309487, 0.96066298]])"
            ]
          },
          "metadata": {},
          "execution_count": 37
        }
      ]
    },
    {
      "cell_type": "code",
      "source": [
        "ei_vals, ei_vect = LA.eig(np.corrcoef(final_X.T))"
      ],
      "metadata": {
        "id": "EkXdtZ0LJe-c"
      },
      "execution_count": 38,
      "outputs": []
    },
    {
      "cell_type": "code",
      "source": [
        "mat_E_eigen = np.zeros((3, 3), dtype=float)\n",
        "for i in range(len(ei_vect)):\n",
        "  temp = ei_vals[i]*(np.atleast_2d(ei_vect[i]).T @ np.atleast_2d(ei_vect[i]))\n",
        "  mat_E_eigen = mat_E_eigen + temp\n",
        "mat_E_eigen"
      ],
      "metadata": {
        "id": "okTUj4RP4POj",
        "outputId": "7f174b39-d939-4071-9694-ccc5b6eb7245",
        "colab": {
          "base_uri": "https://localhost:8080/"
        }
      },
      "execution_count": 39,
      "outputs": [
        {
          "output_type": "execute_result",
          "data": {
            "text/plain": [
              "array([[0.99091691, 0.11996484, 0.14762857],\n",
              "       [0.11996484, 1.0472566 , 0.12358536],\n",
              "       [0.14762857, 0.12358536, 0.96182648]])"
            ]
          },
          "metadata": {},
          "execution_count": 39
        }
      ]
    },
    {
      "cell_type": "markdown",
      "source": [
        "\n",
        "\n",
        "---\n",
        "\n"
      ],
      "metadata": {
        "id": "EwSAlwv2nGN5"
      }
    },
    {
      "cell_type": "code",
      "source": [
        "def checkDesignMatrix(X):\n",
        "    \"\"\"\n",
        "       Parameters\n",
        "       ----------\n",
        "       X: a matrix of shape (T, N), where T denotes the number\n",
        "           of samples and N labels the number of features.\n",
        "           If T < N, a warning is issued to the user, and the transpose\n",
        "           of X is considered instead.\n",
        "       Returns:\n",
        "       T: type int\n",
        "       N: type int\n",
        "       transpose_flag: type bool\n",
        "           Specify if the design matrix X should be transposed\n",
        "           in view of having less rows than columns.       \n",
        "    \"\"\"\n",
        "    \n",
        "    try:\n",
        "        assert isinstance(X, (np.ndarray, pd.DataFrame, pd.Series,\n",
        "                              MutableSequence, Sequence))\n",
        "    except AssertionError:\n",
        "        raise\n",
        "        sys.exit(1)\n",
        "\n",
        "    # Código para convertir a X en un array, si es que no lo es  \n",
        "    X = np.asarray(X, dtype=float)\n",
        "    # Código para convertir a X en un array de numpy de dos dimensiones \n",
        "    X = np.atleast_2d(X)\n",
        "\n",
        "    if X.shape[0] < X.shape[1]:\n",
        "        warnings.warn(\"The Marcenko-Pastur distribution pertains to \"\n",
        "                      \"the empirical covariance matrix of a random matrix X \"\n",
        "                      \"of shape (T, N). It is assumed that the number of \"\n",
        "                      \"samples T is assumed higher than the number of \"\n",
        "                      \"features N. The transpose of the matrix X submitted \"\n",
        "                      \"at input will be considered in the cleaning schemes \"\n",
        "                      \"for the corresponding correlation matrix.\", UserWarning)\n",
        "        \n",
        "        T, N = reversed(X.shape)\n",
        "        transpose_flag = True\n",
        "    else:\n",
        "        T, N = X.shape\n",
        "        transpose_flag = False\n",
        "        \n",
        "    return T, N, transpose_flag"
      ],
      "metadata": {
        "id": "2MKzEYgnb4Xe"
      },
      "execution_count": 40,
      "outputs": []
    },
    {
      "cell_type": "code",
      "execution_count": 143,
      "metadata": {
        "id": "K2iJjcBKWM8e"
      },
      "outputs": [],
      "source": [
        "def xiHelper(x, q, E):\n",
        "    \"\"\"Helper function to the rotationally-invariant, optimal shrinkage\n",
        "       estimator of the true correlation matrix (implemented via function\n",
        "       optimalShrinkage of the present module). \n",
        "       Parameters\n",
        "       ----------\n",
        "       x: type derived from numbers.Real\n",
        "           Would typically be expected to be an eigenvalue from the\n",
        "           spectrum of correlation matrix E. The present function\n",
        "           can however handle an arbitrary floating-point number.\n",
        "       q: type derived from numbers.Real\n",
        "           The number parametrizing a Marcenko-Pastur spectrum.\n",
        "       E: type numpy.ndarray\n",
        "           Symmetric correlation matrix associated with the \n",
        "           Marcenko-Pastur parameter q specified above.\n",
        "       Returns\n",
        "       -------\n",
        "       xi: type float\n",
        "           Cleaned eigenvalue of the true correlation matrix C underlying\n",
        "           the empirical correlation E (the latter being corrupted \n",
        "           with in-sample noise). This cleaned version is computed\n",
        "           assuming no prior knowledge on the structure of the true\n",
        "           eigenvectors (thereby leaving the eigenvectors of E unscathed). \n",
        "       References\n",
        "       ----------\n",
        "       * \"Rotational invariant estimator for general noisy matrices\",\n",
        "         J. Bun, R. Allez, J.-P. Bouchaud and M. Potters\n",
        "         arXiv: 1502.06736 [cond-mat.stat-mech]\n",
        "       * \"Cleaning large Correlation Matrices: tools from Random Matrix Theory\",\n",
        "         J. Bun, J.-P. Bouchaud and M. Potters\n",
        "         arXiv: 1610.08104 [cond-mat.stat-mech]\n",
        "    \"\"\"\n",
        "\n",
        "    try:\n",
        "        assert isinstance(x, Real)\n",
        "        assert isinstance(q, Real)\n",
        "        assert isinstance(E, np.ndarray) and E.shape[0] == E.shape[1]\n",
        "        assert np.allclose(E.transpose(1, 0), E)\n",
        "    except AssertionError:\n",
        "        raise\n",
        "        sys.exit(1)\n",
        "\n",
        "    N = E.shape[0]\n",
        "    \n",
        "    # esta z es z_k en el paper Box1 (ESTÁ BIEN)\n",
        "    z = x - 1j / np.sqrt(N)\n",
        "    \n",
        "    # esta s_k es en realidad s_k(z_k) en el paper (ESTA DIFERENTE)\n",
        "    s = stieltjes(z, E)\n",
        "    \n",
        "    #xi es \\xi_l^{RIE} en el paper (ESTA IGUAL)\n",
        "    xi = x / abs(1 - q + q * z * s)**2\n",
        "    print(\"xi_rie\")\n",
        "    print(xi)\n",
        "\n",
        "    return xi"
      ]
    },
    {
      "cell_type": "code",
      "source": [
        "def stieltjes(z, E):\n",
        "    \"\"\"\n",
        "       Parameters\n",
        "       ----------\n",
        "       z: complex number\n",
        "       E: square matrix\n",
        "       Returns\n",
        "       -------\n",
        "       A complex number, the resolvent of square matrix E, \n",
        "       also known as its Stieltjes transform.\n",
        "       Reference\n",
        "       ---------\n",
        "       \"Financial Applications of Random Matrix Theory: a short review\",\n",
        "       J.-P. Bouchaud and M. Potters\n",
        "       arXiv: 0910.1205 [q-fin.ST]\n",
        "    \"\"\"\n",
        "\n",
        "    try:\n",
        "        assert isinstance(z, Complex)\n",
        "        \n",
        "        assert isinstance(E, (np.ndarray, pd.DataFrame,\n",
        "                              MutableSequence, Sequence))\n",
        "        E = np.asarray(E, dtype=float)\n",
        "        E = np.atleast_2d(E)\n",
        "        assert E.shape[0] == E.shape[1]\n",
        "    except AssertionError:\n",
        "        raise\n",
        "        sys.exit(1)\n",
        "\n",
        "    N = E.shape[0]\n",
        "    \n",
        "    ret = z * np.eye(N, dtype=float) - E\n",
        "    \n",
        "   \n",
        "    ret = np.trace(ret) / N\n",
        "    print(\"el z_k\")\n",
        "    print(z)\n",
        "\n",
        "    print(\"el s_k correspondiente\")\n",
        "    print(ret)\n",
        "\n",
        "    return ret"
      ],
      "metadata": {
        "id": "pDdL98HZWaSM"
      },
      "execution_count": 42,
      "outputs": []
    },
    {
      "cell_type": "code",
      "source": [
        "def gammaHelper(x, q, N, lambda_N, inverse_wishart=False):\n",
        "    \"\"\"Helper function to optimalShrinkage function defined below.\n",
        "       The eigenvalue to the cleaned estimator of a true correlation\n",
        "       matrix are computed via the function xiHelper defined above in\n",
        "       the module at hand. \n",
        "       \n",
        "       It is known however that when N is not very large\n",
        "       a systematic downward bias affects the xiHelper estimator for small\n",
        "       eigenvalues of the noisy empirical correlation matrix. This bias\n",
        "       can be heuristically corrected by computing\n",
        "       xi_hat = xi_RIE * max(1, Gamma),\n",
        "       with Gamma evaluated by the function gammaHelper herewith.\n",
        "       Parameters\n",
        "       ----------\n",
        "       x: type float or any other type derived from numbers.Real\n",
        "           Typically an eigenvalue from the spectrum of a sample\n",
        "           estimate of the correlation matrix associated to some\n",
        "           design matrix X. However, the present function supports\n",
        "           any arbitrary floating-point number x at input.\n",
        "       q: type derived from numbers.Real\n",
        "           Parametrizes a Marcenko-Pastur spectrum.\n",
        "       N: type derived from numbers.Integral\n",
        "           Dimension of a correlation matrix whose debiased, \n",
        "           rotationally-invariant estimator is to be assessed via\n",
        "           the function RIE (see below), of which the present function\n",
        "           is a helper.\n",
        "       lambda_N: type derived from numbers.Real\n",
        "           Smallest eigenvalue from the spectrum of an empirical\n",
        "           estimate to a correlation matrix.\n",
        "        \n",
        "       inverse_wishart: type bool default: False\n",
        "            Wether to use inverse wishart regularization\n",
        "       Returns\n",
        "       ------\n",
        "       Gamma: type float\n",
        "           Upward correction factor for computing a debiased \n",
        "           rotationally-invariant estimator of a true underlying \n",
        "           correlation matrix. \n",
        "       Reference\n",
        "       ---------\n",
        "       \"Cleaning large Correlation Matrices: tools from Random Matrix Theory\",\n",
        "        J. Bun, J.-P. Bouchaud and M. Potters\n",
        "        arXiv: 1610.08104 [cond-mat.stat-mech]\n",
        "    \"\"\"\n",
        "\n",
        "    try:\n",
        "        assert isinstance(x, Real)\n",
        "        assert isinstance(q, Real)\n",
        "        assert isinstance(N, Integral)\n",
        "        assert isinstance(lambda_N, Real)\n",
        "    except AssertionError:\n",
        "        raise\n",
        "        sys.exit(1)\n",
        "\n",
        "    z = x - 1j / np.sqrt(N)\n",
        "    print(\"el q\")\n",
        "    print(q)\n",
        "    print(\"el lambda N\")\n",
        "    print(lambda_N)\n",
        "    # Este lambda plus está igual  que en el paper (ESTÁ BIEN)\n",
        "    lambda_plus = (1 + np.sqrt(q))**2\n",
        "\n",
        "    lambda_plus /= (1 - np.sqrt(q))**2\n",
        "\n",
        "    lambda_plus *= lambda_N\n",
        "    print(\"lambda _plus\")\n",
        "    print(lambda_plus)\n",
        "    # Este sigma cuadrada está igual que en el N (ESTÁ BIEN)\n",
        "    sigma_2 = lambda_N / (1 - np.sqrt(q))**2\n",
        "    print(\"sigma_2\")\n",
        "    print(sigma_2)\n",
        "    \n",
        "    # gmp defined below stands for the Stieltjes transform of the\n",
        "    # rescaled Marcenko-Pastur density, evaluated at z\n",
        "    # esta función es la (18) y ESTÁ MALLLLL ( NOTAR QUE EN EL PAPER \n",
        "    # LA PARTE QUE SE RESTA ESTÁ COMO \\SQRT{ z - \\lambda_n} \\times \\sqrt{z - \\lambda_+})\n",
        "    # mientras que aquí primero se multiplican los dos valores y luego se saca la raíz cuadrada\n",
        "    gmp = z + sigma_2 * (q - 1) - np.sqrt((z - lambda_N) * (z - lambda_plus))    \n",
        "    gmp /= 2 * q * sigma_2 * z\n",
        "    print(\"el gmp correspondiente\")\n",
        "    print(gmp)\n",
        "    # Este es el Gamma_k y ESTÁ IGUAL (más adelante se realiza la división entre lambda_k que está como x)\n",
        "    Gamma = abs(1 - q + q * z * gmp)**2\n",
        "    Gamma *= sigma_2\n",
        "    \n",
        "    if inverse_wishart:\n",
        "        kappa = 2 * lambda_N / ((1 - q - lambda_N) ** 2 - 4 * q * lambda_N)\n",
        "        alpha_s = 1 / (1 + 2 * q * kappa)\n",
        "        denom = x / (1 + alpha_s * (x - 1.))\n",
        "        Gamma /= denom\n",
        "    else: \n",
        "        Gamma /= x\n",
        "    print(\"el gamma correspondiente\")\n",
        "    print(Gamma)\n",
        "    return Gamma"
      ],
      "metadata": {
        "id": "clg1ee9zWuxb"
      },
      "execution_count": 141,
      "outputs": []
    },
    {
      "cell_type": "code",
      "source": [
        "def optimalShrinkage(X, return_covariance=False, method='rie'):\n",
        "    \"\"\"This function computes a cleaned, optimal shrinkage, \n",
        "       rotationally-invariant estimator (RIE) of the true correlation \n",
        "       matrix C underlying the noisy, in-sample estimate \n",
        "       E = 1/T X * transpose(X)\n",
        "       associated to a design matrix X of shape (T, N) (T measurements \n",
        "       and N features).\n",
        "       One approach to getting a cleaned estimator that predates the\n",
        "       optimal shrinkage, RIE estimator consists in inverting the \n",
        "       Marcenko-Pastur equation so as to replace the eigenvalues\n",
        "       from the spectrum of E by an estimation of the true ones.\n",
        "       This approach is known to be numerically-unstable, in addition\n",
        "       to failing to account for the overlap between the sample eigenvectors\n",
        "       and the true eigenvectors. How to compute such overlaps was first\n",
        "       explained by Ledoit and Peche (cf. reference below). Their procedure\n",
        "       was extended by Bun, Bouchaud and Potters, who also correct\n",
        "       for a systematic downward bias in small eigenvalues.\n",
        "       \n",
        "       It is this debiased, optimal shrinkage, rotationally-invariant\n",
        "       estimator that the function at hand implements.\n",
        "       \n",
        "       In addition to above method, this funtion also provides access to:  \n",
        "       - The finite N regularization of the optimal RIE for small eigenvalues\n",
        "         as provided in section 8.1 of [3] a.k.a the inverse wishart (IW) regularization.\n",
        "       - The direct kernel method of O. Ledoit and M. Wolf in their 2017 paper [4]. \n",
        "         This is a direct port of their Matlab code.\n",
        "        \n",
        "         \n",
        "       Parameters\n",
        "       ----------\n",
        "       X: design matrix, of shape (T, N), where T denotes the number\n",
        "           of samples (think measurements in a time series), while N\n",
        "           stands for the number of features (think of stock tickers).\n",
        "           \n",
        "       return_covariance: type bool (default: False)\n",
        "           If set to True, compute the standard deviations of each individual\n",
        "           feature across observations, clean the underlying matrix\n",
        "           of pairwise correlations, then re-apply the standard\n",
        "           deviations and return a cleaned variance-covariance matrix.\n",
        "       \n",
        "       method: type string, optional (default=\"rie\")\n",
        "           - If \"rie\" : optimal shrinkage in the manner of Bun & al.\n",
        "            with no regularisation  \n",
        "           - If \"iw\" : optimal shrinkage in the manner of Bun & al.\n",
        "            with the so called Inverse Wishart regularization\n",
        "           - If 'kernel': Direct kernel method of Ledoit  Wolf.\n",
        "       Returns\n",
        "       -------\n",
        "       E_RIE: type numpy.ndarray, shape (N, N)\n",
        "           Cleaned estimator of the true correlation matrix C. A sample\n",
        "           estimator of C is the empirical covariance matrix E \n",
        "           estimated from X. E is corrupted by in-sample noise.\n",
        "           E_RIE is the optimal shrinkage, rotationally-invariant estimator \n",
        "           (RIE) of C computed following the procedure of Joel Bun \n",
        "           and colleagues (cf. references below).\n",
        "           \n",
        "           If return_covariance=True, E_clipped corresponds to a cleaned\n",
        "           variance-covariance matrix.\n",
        "       References\n",
        "       ----------\n",
        "       1 \"Eigenvectors of some large sample covariance matrix ensembles\",\n",
        "         O. Ledoit and S. Peche\n",
        "         Probability Theory and Related Fields, Vol. 151 (1), pp 233-264\n",
        "       2 \"Rotational invariant estimator for general noisy matrices\",\n",
        "         J. Bun, R. Allez, J.-P. Bouchaud and M. Potters\n",
        "         arXiv: 1502.06736 [cond-mat.stat-mech]\n",
        "       3 \"Cleaning large Correlation Matrices: tools from Random Matrix Theory\",\n",
        "         J. Bun, J.-P. Bouchaud and M. Potters\n",
        "         arXiv: 1610.08104 [cond-mat.stat-mech]\n",
        "       4 \"Direct Nonlinear Shrinkage Estimation of Large-Dimensional Covariance Matrices (September 2017)\", \n",
        "         O. Ledoit and M. Wolf https://ssrn.com/abstract=3047302 or http://dx.doi.org/10.2139/ssrn.3047302\n",
        "    \"\"\"\n",
        "    \n",
        "    try:\n",
        "        assert isinstance(return_covariance, bool)\n",
        "    except AssertionError:\n",
        "        raise\n",
        "        sys.exit(1)\n",
        "\n",
        "    T, N, transpose_flag = checkDesignMatrix(X)\n",
        "    if transpose_flag:\n",
        "        X = X.T\n",
        "      \n",
        "    # Si se quiere la matriz de correlación limpia, los datos SÍ se estandarizan, de lo contrario no se estandarizan\n",
        "    if not return_covariance:\n",
        "      print(\"sí estandarize\")\n",
        "      X = StandardScaler(with_mean=False,with_std=True).fit_transform(X)\n",
        "\n",
        "    ec = EmpiricalCovariance(store_precision=False,\n",
        "                             assume_centered=True)\n",
        "    ec.fit(X)\n",
        "    #E = ec.covariance_\n",
        "    E = np.corrcoef(X.T)\n",
        "    \n",
        "\n",
        "    \n",
        "    if return_covariance:\n",
        "        inverse_std = 1./np.sqrt(np.diag(E))\n",
        "        E *= inverse_std\n",
        "        E *= inverse_std.reshape(-1, 1)\n",
        "\n",
        "    # Para matrices simétricas, utilizar eigh es siempre más eficiente que eig\n",
        "    eigvals, eigvecs = np.linalg.eigh(E)\n",
        "    eigvecs = eigvecs.T\n",
        "    eigen_val_sample, eigen_vec_sample = LA.eig(E)\n",
        "    print(eigvals)\n",
        "    q = N / float(T)\n",
        "    lambda_N = eigvals[0]  # The smallest empirical eigenvalue,\n",
        "                           # given that the function used to compute\n",
        "                           # the spectrum of a Hermitian or symmetric\n",
        "                           # matrix - namely np.linalg.eigh - returns\n",
        "                           # the eigenvalues in ascending order.\n",
        "    lambda_hats = None\n",
        "    print(\"el lambda N\")\n",
        "    print(lambda_N)\n",
        "    \n",
        "    if method is not 'kernel':\n",
        "        use_inverse_wishart = (method == 'iw')\n",
        "        xis = map(lambda x: xiHelper(x, q, E), eigvals)\n",
        "        Gammas = map(lambda x: gammaHelper(x, q, N, lambda_N, inverse_wishart=use_inverse_wishart), eigvals)\n",
        "        # Aquí se define el stepwise function ( Y ESTÁ BIEN)\n",
        "        xi_hats = map(lambda a, b: a * b if b > 1 else a, xis, Gammas)\n",
        "        lambda_hats = xi_hats\n",
        "    else:\n",
        "         lambda_hats = directKernel(q, T, N, eigvals)\n",
        "        \n",
        "    E_RIE = np.zeros((N, N), dtype=float)\n",
        "    print(\"igenvectors of E\")\n",
        "    print(eigvecs)\n",
        "    for lambda_hat, eigvec in zip(lambda_hats, eigvecs):\n",
        "        \n",
        "        print(\"paso rie\")\n",
        "        print(E_RIE)\n",
        "        print(\"el lambda_hat\")\n",
        "        print(lambda_hat)\n",
        "        print(\"el vector propio\")\n",
        "        print(eigvec)\n",
        "        eigvec = eigvec.reshape(-1, 1)\n",
        "        E_RIE += lambda_hat * eigvec.dot(eigvec.T)\n",
        "        \n",
        "        \n",
        "    print(E_RIE)\n",
        "    print(LA.eig)\n",
        "    tmp = 1./np.sqrt(np.diag(E_RIE))\n",
        "    E_RIE *= tmp\n",
        "    E_RIE *= tmp.reshape(-1, 1)\n",
        "    \n",
        "    if return_covariance:\n",
        "        std = 1./inverse_std\n",
        "        E_RIE *= std\n",
        "        E_RIE *= std.reshape(-1, 1)\n",
        "    \n",
        "    eigen_val_rie, eigen_vec_rie = LA.eig(E_RIE)\n",
        "    print(eigen_vec_rie)\n",
        "\n",
        "    return E_RIE"
      ],
      "metadata": {
        "id": "b2IU86RUW21X"
      },
      "execution_count": 157,
      "outputs": []
    },
    {
      "cell_type": "code",
      "source": [
        "stieltjes(z_k[0],E)"
      ],
      "metadata": {
        "colab": {
          "base_uri": "https://localhost:8080/"
        },
        "id": "AoyMMtrsymvy",
        "outputId": "936d428f-d373-4a81-c935-b058983b9dc3"
      },
      "execution_count": null,
      "outputs": [
        {
          "output_type": "stream",
          "name": "stdout",
          "text": [
            "(0.827026360082597-0.5773502691896258j)\n",
            "[[1.         0.090652   0.16021267]\n",
            " [0.090652   1.         0.1394979 ]\n",
            " [0.16021267 0.1394979  1.        ]]\n",
            "3\n",
            "[[ 0.         -0.090652   -0.16021267]\n",
            " [-0.090652    0.         -0.1394979 ]\n",
            " [-0.16021267 -0.1394979   0.        ]]\n",
            "[[-0.17297364-0.57735027j -0.090652  +0.j         -0.16021267+0.j        ]\n",
            " [-0.090652  +0.j         -0.17297364-0.57735027j -0.1394979 +0.j        ]\n",
            " [-0.16021267+0.j         -0.1394979 +0.j         -0.17297364-0.57735027j]]\n"
          ]
        },
        {
          "output_type": "execute_result",
          "data": {
            "text/plain": [
              "(-0.172973639917403-0.5773502691896258j)"
            ]
          },
          "metadata": {},
          "execution_count": 44
        }
      ]
    },
    {
      "cell_type": "code",
      "source": [
        "stieltjes(z_k[1],E)"
      ],
      "metadata": {
        "colab": {
          "base_uri": "https://localhost:8080/"
        },
        "id": "ISw3DPWdSE2z",
        "outputId": "17724e60-f311-43e8-90d6-967ca2eb545c"
      },
      "execution_count": null,
      "outputs": [
        {
          "output_type": "stream",
          "name": "stdout",
          "text": [
            "(0.9106868204478377-0.5773502691896258j)\n",
            "[[1.         0.090652   0.16021267]\n",
            " [0.090652   1.         0.1394979 ]\n",
            " [0.16021267 0.1394979  1.        ]]\n",
            "3\n",
            "[[ 0.         -0.090652   -0.16021267]\n",
            " [-0.090652    0.         -0.1394979 ]\n",
            " [-0.16021267 -0.1394979   0.        ]]\n",
            "[[-0.08931318-0.57735027j -0.090652  +0.j         -0.16021267+0.j        ]\n",
            " [-0.090652  +0.j         -0.08931318-0.57735027j -0.1394979 +0.j        ]\n",
            " [-0.16021267+0.j         -0.1394979 +0.j         -0.08931318-0.57735027j]]\n"
          ]
        },
        {
          "output_type": "execute_result",
          "data": {
            "text/plain": [
              "(-0.08931317955216234-0.5773502691896258j)"
            ]
          },
          "metadata": {},
          "execution_count": 61
        }
      ]
    },
    {
      "cell_type": "code",
      "source": [
        "stieltjes(z_k[2],E)"
      ],
      "metadata": {
        "colab": {
          "base_uri": "https://localhost:8080/"
        },
        "id": "7qpS8qEcSG0b",
        "outputId": "71b634ec-2db5-4257-d5d9-4d2e8d7ddbb3"
      },
      "execution_count": null,
      "outputs": [
        {
          "output_type": "stream",
          "name": "stdout",
          "text": [
            "(1.262286819469565-0.5773502691896258j)\n",
            "[[1.         0.090652   0.16021267]\n",
            " [0.090652   1.         0.1394979 ]\n",
            " [0.16021267 0.1394979  1.        ]]\n",
            "3\n",
            "[[ 0.         -0.090652   -0.16021267]\n",
            " [-0.090652    0.         -0.1394979 ]\n",
            " [-0.16021267 -0.1394979   0.        ]]\n",
            "[[ 0.26228682-0.57735027j -0.090652  +0.j         -0.16021267+0.j        ]\n",
            " [-0.090652  +0.j          0.26228682-0.57735027j -0.1394979 +0.j        ]\n",
            " [-0.16021267+0.j         -0.1394979 +0.j          0.26228682-0.57735027j]]\n"
          ]
        },
        {
          "output_type": "execute_result",
          "data": {
            "text/plain": [
              "(0.2622868194695649-0.5773502691896258j)"
            ]
          },
          "metadata": {},
          "execution_count": 62
        }
      ]
    },
    {
      "cell_type": "code",
      "source": [
        "optimalShrinkage(final_X, return_covariance = True, method =\"rie\")"
      ],
      "metadata": {
        "colab": {
          "base_uri": "https://localhost:8080/"
        },
        "id": "J2UJ0NgtSS9c",
        "outputId": "310c86c0-b2c2-410c-fa34-04924d8937a3"
      },
      "execution_count": 158,
      "outputs": [
        {
          "output_type": "stream",
          "name": "stdout",
          "text": [
            "[0.46255628 0.88038904 0.94392535 1.71312933]\n",
            "el lambda N\n",
            "0.4625562790371795\n",
            "igenvectors of E\n",
            "[[-0.15363638 -0.03495099 -0.66356389  0.73133936]\n",
            " [ 0.9052618  -0.16688328 -0.36221888 -0.14645316]\n",
            " [-0.03918123 -0.94602534  0.26304453  0.18522545]\n",
            " [-0.39415957 -0.2756165  -0.59940639 -0.6398326 ]]\n",
            "el z_k\n",
            "(0.4625562790371795-0.5j)\n",
            "el s_k correspondiente\n",
            "(-0.5374437209628204-0.5j)\n",
            "xi_rie\n",
            "0.473781319204297\n",
            "el q\n",
            "0.007952286282306162\n",
            "el lambda N\n",
            "0.4625562790371795\n",
            "lambda _plus\n",
            "0.6614409243704067\n",
            "sigma_2\n",
            "0.5575646876864062\n",
            "el gmp correspondiente\n",
            "(101.51829185664188-136.35572175408558j)\n",
            "el gmp\n",
            "(101.51829185664188-136.35572175408558j)\n",
            "el gamma correspondiente\n",
            "1.8047784876201611\n",
            "paso rie\n",
            "[[0. 0. 0. 0.]\n",
            " [0. 0. 0. 0.]\n",
            " [0. 0. 0. 0.]\n",
            " [0. 0. 0. 0.]]\n",
            "el lambda_hat\n",
            "0.8550703327362159\n",
            "el vector propio\n",
            "[-0.15363638 -0.03495099 -0.66356389  0.73133936]\n",
            "el z_k\n",
            "(0.8803890422977492-0.5j)\n",
            "el s_k correspondiente\n",
            "(-0.11961095770225083-0.5j)\n",
            "xi_rie\n",
            "0.89966915283901\n",
            "el q\n",
            "0.007952286282306162\n",
            "el lambda N\n",
            "0.4625562790371795\n",
            "lambda _plus\n",
            "0.6614409243704067\n",
            "sigma_2\n",
            "0.5575646876864062\n",
            "el gmp correspondiente\n",
            "(0.8997734947021313+1.413089593463641j)\n",
            "el gmp\n",
            "(0.8997734947021313+1.413089593463641j)\n",
            "el gamma correspondiente\n",
            "0.6383746446396172\n",
            "paso rie\n",
            "[[ 0.0201832   0.00459151  0.08717233 -0.09607599]\n",
            " [ 0.00459151  0.00104453  0.01983098 -0.02185649]\n",
            " [ 0.08717233  0.01983098  0.37650204 -0.41495741]\n",
            " [-0.09607599 -0.02185649 -0.41495741  0.45734057]]\n",
            "el lambda_hat\n",
            "0.89966915283901\n",
            "el vector propio\n",
            "[ 0.9052618  -0.16688328 -0.36221888 -0.14645316]\n",
            "el z_k\n",
            "(0.9439253532809565-0.5j)\n",
            "el s_k correspondiente\n",
            "(-0.0560746467190435-0.5j)\n",
            "xi_rie\n",
            "0.9637818920773318\n",
            "el q\n",
            "0.007952286282306162\n",
            "el lambda N\n",
            "0.4625562790371795\n",
            "lambda _plus\n",
            "0.6614409243704067\n",
            "sigma_2\n",
            "0.5575646876864062\n",
            "el gmp correspondiente\n",
            "(0.958567638061268+1.2559574180704205j)\n",
            "el gmp\n",
            "(0.958567638061268+1.2559574180704205j)\n",
            "el gamma correspondiente\n",
            "0.5957219142531691\n",
            "paso rie\n",
            "[[ 7.57461104e-01 -1.31324262e-01 -2.07831807e-01 -2.15352727e-01]\n",
            " [-1.31324262e-01  2.61003423e-02  7.42144255e-02  1.31953674e-04]\n",
            " [-2.07831807e-01  7.42144255e-02  4.94540892e-01 -3.67231676e-01]\n",
            " [-2.15352727e-01  1.31953674e-04 -3.67231676e-01  4.76637147e-01]]\n",
            "el lambda_hat\n",
            "0.9637818920773318\n",
            "el vector propio\n",
            "[-0.03918123 -0.94602534  0.26304453  0.18522545]\n",
            "el z_k\n",
            "(1.7131293253841156-0.5j)\n",
            "el s_k correspondiente\n",
            "(0.7131293253841156-0.5j)\n",
            "xi_rie\n",
            "1.7137415687311963\n",
            "el q\n",
            "0.007952286282306162\n",
            "el lambda N\n",
            "0.4625562790371795\n",
            "lambda _plus\n",
            "0.6614409243704067\n",
            "sigma_2\n",
            "0.5575646876864062\n",
            "el gmp correspondiente\n",
            "(0.7293288775306839+0.31656490319945524j)\n",
            "el gmp\n",
            "(0.7293288775306839+0.31656490319945524j)\n",
            "el gamma correspondiente\n",
            "0.3275801884911465\n",
            "paso rie\n",
            "[[ 0.75894067 -0.09560031 -0.21776494 -0.22234724]\n",
            " [-0.09560031  0.88865038 -0.1656196  -0.16874959]\n",
            " [-0.21776494 -0.1656196   0.5612273  -0.32027377]\n",
            " [-0.22234724 -0.16874959 -0.32027377  0.50970303]]\n",
            "el lambda_hat\n",
            "1.7137415687311963\n",
            "el vector propio\n",
            "[-0.39415957 -0.2756165  -0.59940639 -0.6398326 ]\n",
            "[[1.02519059 0.09057524 0.18712667 0.20985177]\n",
            " [0.09057524 1.01883383 0.11750129 0.13346603]\n",
            " [0.18712667 0.11750129 1.17695412 0.33697996]\n",
            " [0.20985177 0.13346603 0.33697996 1.21128441]]\n",
            "<function eig at 0x7f075046e050>\n",
            "[[ 0.47343083  0.22231786  0.84932468 -0.07131344]\n",
            " [ 0.34542305 -0.9365393   0.0498231  -0.03308633]\n",
            " [ 0.56461041  0.20941849 -0.42622288 -0.67505039]\n",
            " [ 0.5811723   0.17208369 -0.30740739  0.73357117]]\n"
          ]
        },
        {
          "output_type": "execute_result",
          "data": {
            "text/plain": [
              "array([[1.        , 0.08862484, 0.17035451, 0.18831602],\n",
              "       [0.08862484, 1.        , 0.10730284, 0.12014232],\n",
              "       [0.17035451, 0.10730284, 1.        , 0.28222875],\n",
              "       [0.18831602, 0.12014232, 0.28222875, 1.        ]])"
            ]
          },
          "metadata": {},
          "execution_count": 158
        }
      ]
    },
    {
      "cell_type": "markdown",
      "source": [
        "\n",
        "\n",
        "---\n",
        "\n"
      ],
      "metadata": {
        "id": "61KUw-z3LSGi"
      }
    },
    {
      "cell_type": "code",
      "source": [
        "E = np.corrcoef(final_X.T)\n",
        "lambdas, u_ks = LA.eigh(E)"
      ],
      "metadata": {
        "id": "67l6ISMVMGFe"
      },
      "execution_count": 111,
      "outputs": []
    },
    {
      "cell_type": "code",
      "source": [
        "lambdas"
      ],
      "metadata": {
        "colab": {
          "base_uri": "https://localhost:8080/"
        },
        "id": "iUbIbEvyOGpM",
        "outputId": "3ec5a655-040a-4d1d-907b-0313706dbe19"
      },
      "execution_count": 112,
      "outputs": [
        {
          "output_type": "execute_result",
          "data": {
            "text/plain": [
              "array([0.46255628, 0.88038904, 0.94392535, 1.71312933])"
            ]
          },
          "metadata": {},
          "execution_count": 112
        }
      ]
    },
    {
      "cell_type": "code",
      "source": [
        "T,N = final_X.shape\n",
        "z_k = lambdas - (1j / np.sqrt(N))\n",
        "print(z_k)"
      ],
      "metadata": {
        "colab": {
          "base_uri": "https://localhost:8080/"
        },
        "id": "tlZCtCPjO5Wr",
        "outputId": "87a70f8b-7497-447b-ec4d-4b2c13bbff31"
      },
      "execution_count": 113,
      "outputs": [
        {
          "output_type": "stream",
          "name": "stdout",
          "text": [
            "[0.46255628-0.5j 0.88038904-0.5j 0.94392535-0.5j 1.71312933-0.5j]\n"
          ]
        }
      ]
    },
    {
      "cell_type": "markdown",
      "source": [
        "\n",
        "\n",
        "---\n",
        "\n"
      ],
      "metadata": {
        "id": "lOd-Z0MDQkGj"
      }
    },
    {
      "cell_type": "markdown",
      "source": [
        "Para el $s_0(z_0)$, la forma manual de hacerlo es la siguiente, siguiendo la fórmula de la ecuación 16 en el paper de Risk, definido como $s_k (z_k) = \\frac{1}{N} \\sum_{j=1, j\\neq k}^N \\frac{1}{z_k - \\lambda_j}$.\n"
      ],
      "metadata": {
        "id": "R4oJju9jZki1"
      }
    },
    {
      "cell_type": "code",
      "source": [
        "(1/N)*( (1/(z_k[0]-lambdas[1])) + (1/(z_k[0]-lambdas[2])))"
      ],
      "metadata": {
        "colab": {
          "base_uri": "https://localhost:8080/"
        },
        "id": "zGLb8RNkUhEL",
        "outputId": "c6c047cf-5120-429e-b62e-70eae70d8d01"
      },
      "execution_count": 114,
      "outputs": [
        {
          "output_type": "execute_result",
          "data": {
            "text/plain": [
              "(-0.4958445237905327+0.5538945607188339j)"
            ]
          },
          "metadata": {},
          "execution_count": 114
        }
      ]
    },
    {
      "cell_type": "markdown",
      "source": [
        " En la ecuación 6.25, página 86 del paper se encuentra esta ecuación como $g_E^N(z) = \\frac{1}{N} \\sum_{i=1}^N \\frac{1}{z-\\lambda_i}$, notando que la única diferencia es que la sumatoria en $i$ va sobre todo N, mientras que en la pasada no pasa por $j$."
      ],
      "metadata": {
        "id": "r24AU1a-n-B5"
      }
    },
    {
      "cell_type": "code",
      "source": [
        "(1/N)*( (1/(z_k[0]-lambdas[1])) + (1/(z_k[0]-lambdas[2])) + (1/(z_k[0]-lambdas[0])))"
      ],
      "metadata": {
        "colab": {
          "base_uri": "https://localhost:8080/"
        },
        "id": "nwjLjZI2n16W",
        "outputId": "db8883d3-6594-4c4a-9580-9b113c7b30a7"
      },
      "execution_count": 115,
      "outputs": [
        {
          "output_type": "execute_result",
          "data": {
            "text/plain": [
              "(-0.4958445237905327+1.053894560718834j)"
            ]
          },
          "metadata": {},
          "execution_count": 115
        }
      ]
    },
    {
      "cell_type": "markdown",
      "source": [
        "La forma de obtener este mismo s_0 de forma vectorizada es la siguiente"
      ],
      "metadata": {
        "id": "OGMeGKdfZsvD"
      }
    },
    {
      "cell_type": "code",
      "source": [
        "1/3* (sum(1/(z_k[0]- lambdas)) - 1/(z_k[0] - lambdas[0]))"
      ],
      "metadata": {
        "colab": {
          "base_uri": "https://localhost:8080/"
        },
        "id": "9Ma_SigWQ6pU",
        "outputId": "5559e996-8325-4686-f6f7-9b4b75f6df64"
      },
      "execution_count": 116,
      "outputs": [
        {
          "output_type": "execute_result",
          "data": {
            "text/plain": [
              "(-0.8909347925336008+0.8304074634511303j)"
            ]
          },
          "metadata": {},
          "execution_count": 116
        }
      ]
    },
    {
      "cell_type": "markdown",
      "source": [
        "Si se programa todo mediante una función lambda y una función auxiliar"
      ],
      "metadata": {
        "id": "ChuVW3lTZx2w"
      }
    },
    {
      "cell_type": "code",
      "source": [
        "def get_s_k(index_lambda, N):\n",
        "  return 1/N* (sum(1/(z_k[index_lambda]- lambdas)) - 1/(z_k[index_lambda] - lambdas[index_lambda]))"
      ],
      "metadata": {
        "id": "LymwPgKfWsGw"
      },
      "execution_count": 117,
      "outputs": []
    },
    {
      "cell_type": "code",
      "source": [
        "s_ks = map(lambda index_lambda: get_s_k(index_lambda,N), np.argsort(lambdas))"
      ],
      "metadata": {
        "id": "xJSNXIQ7XW6L"
      },
      "execution_count": 118,
      "outputs": []
    },
    {
      "cell_type": "code",
      "source": [
        "for item in s_ks:\n",
        "  print(item)"
      ],
      "metadata": {
        "colab": {
          "base_uri": "https://localhost:8080/"
        },
        "id": "jOx_q8sIXwOl",
        "outputId": "89cfe0e9-be88-4302-95bf-5f1abed41875"
      },
      "execution_count": 119,
      "outputs": [
        {
          "output_type": "stream",
          "name": "stdout",
          "text": [
            "(-0.6682010944002006+0.6228055975883477j)\n",
            "(-0.03716410301941897+0.9189517920726462j)\n",
            "(0.08387228869926353+0.9000568913327782j)\n",
            "(0.621492908720356+0.3499160140118247j)\n"
          ]
        }
      ]
    },
    {
      "cell_type": "code",
      "source": [
        "get_s_k(0, 3)"
      ],
      "metadata": {
        "colab": {
          "base_uri": "https://localhost:8080/"
        },
        "id": "B0LmWu-GXFK0",
        "outputId": "9f1f7029-4bee-4ea8-c3dd-369f17b66fcc"
      },
      "execution_count": 120,
      "outputs": [
        {
          "output_type": "execute_result",
          "data": {
            "text/plain": [
              "(-0.8909347925336008+0.8304074634511303j)"
            ]
          },
          "metadata": {},
          "execution_count": 120
        }
      ]
    },
    {
      "cell_type": "code",
      "source": [
        "get_s_k(1,3)"
      ],
      "metadata": {
        "colab": {
          "base_uri": "https://localhost:8080/"
        },
        "id": "PyNCV_TfXHzj",
        "outputId": "86e8edec-3913-4a3b-ce6e-476068b90589"
      },
      "execution_count": 121,
      "outputs": [
        {
          "output_type": "execute_result",
          "data": {
            "text/plain": [
              "(-0.04955213735922529+1.2252690560968615j)"
            ]
          },
          "metadata": {},
          "execution_count": 121
        }
      ]
    },
    {
      "cell_type": "code",
      "source": [
        "get_s_k(2,3)"
      ],
      "metadata": {
        "colab": {
          "base_uri": "https://localhost:8080/"
        },
        "id": "U0DA-YWRXJ3G",
        "outputId": "733bf1f7-09d8-49cb-c4cc-6d1320268aaf"
      },
      "execution_count": 122,
      "outputs": [
        {
          "output_type": "execute_result",
          "data": {
            "text/plain": [
              "(0.11182971826568469+1.200075855110371j)"
            ]
          },
          "metadata": {},
          "execution_count": 122
        }
      ]
    },
    {
      "cell_type": "markdown",
      "source": [
        "Se puede observar que la forma en la que se calculan los $s_k(z_k)$ en esta implementación no es la misma que está en el paper"
      ],
      "metadata": {
        "id": "Ep2Mq83vY83Z"
      }
    },
    {
      "cell_type": "markdown",
      "source": [
        "La forma en la que ellos calculan la $s_k$ es la siguiente: $s_k = (z_k -1)$"
      ],
      "metadata": {
        "id": "BiFcaQEs-zqj"
      }
    },
    {
      "cell_type": "code",
      "source": [
        "z_k[0]-1"
      ],
      "metadata": {
        "colab": {
          "base_uri": "https://localhost:8080/"
        },
        "id": "cE7s9KGU_ERD",
        "outputId": "add6341a-8e2a-4858-b1da-cb296e0cdf03"
      },
      "execution_count": null,
      "outputs": [
        {
          "output_type": "execute_result",
          "data": {
            "text/plain": [
              "(-0.172973639917403-0.5773502691896258j)"
            ]
          },
          "metadata": {},
          "execution_count": 19
        }
      ]
    },
    {
      "cell_type": "code",
      "source": [
        "z_k[1]-1"
      ],
      "metadata": {
        "colab": {
          "base_uri": "https://localhost:8080/"
        },
        "id": "mY0bzqtcrukm",
        "outputId": "b04a907e-1711-4ad2-9714-4b49aeb2431b"
      },
      "execution_count": 54,
      "outputs": [
        {
          "output_type": "execute_result",
          "data": {
            "text/plain": [
              "(-0.08931317955216234-0.5773502691896258j)"
            ]
          },
          "metadata": {},
          "execution_count": 54
        }
      ]
    },
    {
      "cell_type": "code",
      "source": [
        "z_k[2]-1"
      ],
      "metadata": {
        "colab": {
          "base_uri": "https://localhost:8080/"
        },
        "id": "Ug5NNKgtsEze",
        "outputId": "a577aefe-0fea-4470-a8fd-aeafaa02a2fd"
      },
      "execution_count": 55,
      "outputs": [
        {
          "output_type": "execute_result",
          "data": {
            "text/plain": [
              "(0.2622868194695649-0.5773502691896258j)"
            ]
          },
          "metadata": {},
          "execution_count": 55
        }
      ]
    },
    {
      "cell_type": "markdown",
      "source": [
        "\n",
        "\n",
        "---\n",
        "\n"
      ],
      "metadata": {
        "id": "scn3dqkKalVT"
      }
    },
    {
      "cell_type": "markdown",
      "source": [
        "A continuación se calculan los $g_{mp}(z)$ tal cuál está en la ecuación 18 de la revista risk."
      ],
      "metadata": {
        "id": "Uci0tWVvtTzh"
      }
    },
    {
      "cell_type": "code",
      "source": [
        "n_lambda = lambdas[0]\n",
        "q = N/T\n",
        "sigma_sq = (n_lambda)/(1- np.sqrt(q))**2\n",
        "lambda_plus = n_lambda*(((1+np.sqrt(q))/(1 - np.sqrt(q)))**2)"
      ],
      "metadata": {
        "id": "H288j3juanJa"
      },
      "execution_count": 123,
      "outputs": []
    },
    {
      "cell_type": "markdown",
      "source": [
        "Se corroboran que los escalares utilizados en $g_{mp}$ son correctos"
      ],
      "metadata": {
        "id": "rO-xHVyOtelx"
      }
    },
    {
      "cell_type": "code",
      "source": [
        "sigma_sq"
      ],
      "metadata": {
        "colab": {
          "base_uri": "https://localhost:8080/"
        },
        "id": "O5C6DM3qzAHf",
        "outputId": "19cbd625-86a0-45b6-b029-2aa11109b688"
      },
      "execution_count": 124,
      "outputs": [
        {
          "output_type": "execute_result",
          "data": {
            "text/plain": [
              "0.5575646876864062"
            ]
          },
          "metadata": {},
          "execution_count": 124
        }
      ]
    },
    {
      "cell_type": "code",
      "source": [
        "n_lambda"
      ],
      "metadata": {
        "colab": {
          "base_uri": "https://localhost:8080/"
        },
        "id": "3OA_rSKv_1Xm",
        "outputId": "4570071d-86dd-447c-c115-b0573022eeec"
      },
      "execution_count": 125,
      "outputs": [
        {
          "output_type": "execute_result",
          "data": {
            "text/plain": [
              "0.4625562790371795"
            ]
          },
          "metadata": {},
          "execution_count": 125
        }
      ]
    },
    {
      "cell_type": "code",
      "source": [
        "q"
      ],
      "metadata": {
        "colab": {
          "base_uri": "https://localhost:8080/"
        },
        "id": "twVnOwcR_zlu",
        "outputId": "fe4df40d-96ec-4f5b-d88d-c15cd4b2b0e1"
      },
      "execution_count": 126,
      "outputs": [
        {
          "output_type": "execute_result",
          "data": {
            "text/plain": [
              "0.007952286282306162"
            ]
          },
          "metadata": {},
          "execution_count": 126
        }
      ]
    },
    {
      "cell_type": "code",
      "source": [
        "lambda_plus"
      ],
      "metadata": {
        "colab": {
          "base_uri": "https://localhost:8080/"
        },
        "id": "shcq8z0l_4oh",
        "outputId": "4a6c9aab-5f32-4f55-83fb-7fd60574dcd9"
      },
      "execution_count": 127,
      "outputs": [
        {
          "output_type": "execute_result",
          "data": {
            "text/plain": [
              "0.6614409243704067"
            ]
          },
          "metadata": {},
          "execution_count": 127
        }
      ]
    },
    {
      "cell_type": "markdown",
      "source": [
        "Procedo a calcular $g_{mp}$ de forma vectorizada."
      ],
      "metadata": {
        "id": "Jb_u-_a4tn3F"
      }
    },
    {
      "cell_type": "code",
      "source": [
        "g_mp = (z_k + sigma_sq*(q-1) - (np.sqrt(z_k - n_lambda)* np.sqrt(z_k - lambda_plus)))/(2*q*z_k*sigma_sq)\n",
        "g_mp\n"
      ],
      "metadata": {
        "colab": {
          "base_uri": "https://localhost:8080/"
        },
        "id": "6Wh0rO0Ibg5a",
        "outputId": "9e4fa157-5f11-455e-effc-2fdb8b6b1ff9"
      },
      "execution_count": 128,
      "outputs": [
        {
          "output_type": "execute_result",
          "data": {
            "text/plain": [
              "array([-0.35694177+1.91476341j,  0.89977349+1.41308959j,\n",
              "        0.95856764+1.25595742j,  0.72932888+0.3165649j ])"
            ]
          },
          "metadata": {},
          "execution_count": 128
        }
      ]
    },
    {
      "cell_type": "markdown",
      "source": [
        "Cálculo manual del primer g_mp(0), para verificar que esté todo correcto. Notar que en la implementación actual, es cálculo de este valor se hace diferente y probablemente se trate de un error por parte del desarrollador."
      ],
      "metadata": {
        "id": "12mRU9OaCkYu"
      }
    },
    {
      "cell_type": "code",
      "source": [
        "z_k[0]"
      ],
      "metadata": {
        "colab": {
          "base_uri": "https://localhost:8080/"
        },
        "id": "TXk4EwJuvm2y",
        "outputId": "5b88c363-4eb9-4384-a008-bf60a4734561"
      },
      "execution_count": 64,
      "outputs": [
        {
          "output_type": "execute_result",
          "data": {
            "text/plain": [
              "(0.827026360082597-0.5773502691896258j)"
            ]
          },
          "metadata": {},
          "execution_count": 64
        }
      ]
    },
    {
      "cell_type": "code",
      "source": [
        "(z_k[0] + sigma_sq*(q-1) - ((np.sqrt(z_k[0] - n_lambda)* np.sqrt(z_k[0] - lambda_plus ))))/(2*q*z_k[0]*sigma_sq)"
      ],
      "metadata": {
        "colab": {
          "base_uri": "https://localhost:8080/"
        },
        "id": "W-EgO6zY8GRR",
        "outputId": "db963337-d5fe-4000-fa16-29f0f548809e"
      },
      "execution_count": 62,
      "outputs": [
        {
          "output_type": "execute_result",
          "data": {
            "text/plain": [
              "(-0.38999134344652825+1.6109910492824393j)"
            ]
          },
          "metadata": {},
          "execution_count": 62
        }
      ]
    },
    {
      "cell_type": "markdown",
      "source": [
        "En la implementación de PyRMT, esta parte se calcula de forma análoga pero con un cambio, en lugar de $\\sqrt{z - \\lambda_n}\\sqrt{z-\\lambda_+}$ se cálcula $\\sqrt{(z - \\lambda_n)(z-\\lambda_+)}$, que como puede verse a continuación no da el mismo resultado"
      ],
      "metadata": {
        "id": "a4DIvp9fueoU"
      }
    },
    {
      "cell_type": "code",
      "source": [
        "(z_k[0] + sigma_sq*(q-1) - ((np.sqrt((z_k[0] - n_lambda)* (z_k[0] - lambda_plus) ))))/(2*q*z_k[0]*sigma_sq)"
      ],
      "metadata": {
        "colab": {
          "base_uri": "https://localhost:8080/"
        },
        "id": "NozKqAmdn1eA",
        "outputId": "ffb053f6-bfc8-4c8c-d83d-9e6b3e2ac14f"
      },
      "execution_count": 65,
      "outputs": [
        {
          "output_type": "execute_result",
          "data": {
            "text/plain": [
              "(37.52694255083072-96.19910037443518j)"
            ]
          },
          "metadata": {},
          "execution_count": 65
        }
      ]
    },
    {
      "cell_type": "code",
      "source": [
        "(z_k[1] + sigma_sq*(q-1) - ((np.sqrt((z_k[1] - n_lambda)* (z_k[1] - lambda_plus) ))))/(2*q*z_k[1]*sigma_sq)"
      ],
      "metadata": {
        "colab": {
          "base_uri": "https://localhost:8080/"
        },
        "id": "EM6UV_pav3El",
        "outputId": "9733c1e5-a123-443c-de41-0bf607151f3d"
      },
      "execution_count": 66,
      "outputs": [
        {
          "output_type": "execute_result",
          "data": {
            "text/plain": [
              "(42.25712201842438-84.44789783245484j)"
            ]
          },
          "metadata": {},
          "execution_count": 66
        }
      ]
    },
    {
      "cell_type": "markdown",
      "source": [
        "\n",
        "\n",
        "---\n",
        "\n",
        "A continuación se calcula $\\Gamma_k$ manualmente para el valor de $k=0$ "
      ],
      "metadata": {
        "id": "RQcFRdqxao1P"
      }
    },
    {
      "cell_type": "code",
      "source": [
        "sigma_sq * ((np.abs(1 - q + q*z_k[0]*g_mp[0])**2)/(lambdas[0]))"
      ],
      "metadata": {
        "colab": {
          "base_uri": "https://localhost:8080/"
        },
        "id": "82jNQSFJap0p",
        "outputId": "996c266a-aaa6-463c-a531-28867b0718fb"
      },
      "execution_count": 69,
      "outputs": [
        {
          "output_type": "execute_result",
          "data": {
            "text/plain": [
              "1.168998114861667"
            ]
          },
          "metadata": {},
          "execution_count": 69
        }
      ]
    },
    {
      "cell_type": "markdown",
      "source": [
        "Ahora de forma vectorizada"
      ],
      "metadata": {
        "id": "6VFCKmR8gJy4"
      }
    },
    {
      "cell_type": "code",
      "source": [
        "gamma_k =sigma_sq * ((np.abs(1 - q + q*z_k*g_mp)**2)/(lambdas))\n",
        "gamma_k"
      ],
      "metadata": {
        "colab": {
          "base_uri": "https://localhost:8080/"
        },
        "id": "7ys6h6didII5",
        "outputId": "51268cd2-8266-4272-c909-28c5a55ae9ff"
      },
      "execution_count": 129,
      "outputs": [
        {
          "output_type": "execute_result",
          "data": {
            "text/plain": [
              "array([1.20150586, 0.63837464, 0.59572191, 0.32758019])"
            ]
          },
          "metadata": {},
          "execution_count": 129
        }
      ]
    },
    {
      "cell_type": "markdown",
      "source": [
        "\n",
        "\n",
        "---\n",
        "\n",
        "A continuación se obtienen los $\\xi_k^{RIE}$"
      ],
      "metadata": {
        "id": "GC9COK9Gg2t-"
      }
    },
    {
      "cell_type": "markdown",
      "source": [
        "Se calcula manualmente el valor de $\\xi_0^{RIE}$"
      ],
      "metadata": {
        "id": "B9bhLB3_isvt"
      }
    },
    {
      "cell_type": "code",
      "source": [
        "s_ks = list(map(lambda index_lambda: get_s_k(index_lambda,N), np.argsort(lambdas)))"
      ],
      "metadata": {
        "id": "jqzuwAj9weMf"
      },
      "execution_count": 130,
      "outputs": []
    },
    {
      "cell_type": "code",
      "source": [
        "lambdas[0] / np.abs(1 - q + q *z_k[0] * s_ks[0])**2"
      ],
      "metadata": {
        "colab": {
          "base_uri": "https://localhost:8080/"
        },
        "id": "NlbKAPtghPTt",
        "outputId": "e9add41b-5825-4f00-b23d-95b56bb25b05"
      },
      "execution_count": 79,
      "outputs": [
        {
          "output_type": "execute_result",
          "data": {
            "text/plain": [
              "0.8345291255905996"
            ]
          },
          "metadata": {},
          "execution_count": 79
        }
      ]
    },
    {
      "cell_type": "code",
      "source": [
        "xi_k = lambdas / np.abs(1 - q + q *z_k * s_ks)**2\n",
        "xi_k"
      ],
      "metadata": {
        "colab": {
          "base_uri": "https://localhost:8080/"
        },
        "id": "_WUscsrzhqPz",
        "outputId": "90f49aa5-2ead-450b-ef99-785a935e914c"
      },
      "execution_count": 131,
      "outputs": [
        {
          "output_type": "execute_result",
          "data": {
            "text/plain": [
              "array([0.46997255, 0.8884321 , 0.95099375, 1.70660918])"
            ]
          },
          "metadata": {},
          "execution_count": 131
        }
      ]
    },
    {
      "cell_type": "markdown",
      "source": [
        "\n",
        "\n",
        "---\n",
        "\n",
        "Ahora se calculan los valores de $\\hat{\\xi}_k$, empezando manualmente por el valor de $\\hat{\\xi}_0$"
      ],
      "metadata": {
        "id": "HpV7yDO0jbv9"
      }
    },
    {
      "cell_type": "code",
      "source": [
        "gamma_k[0]"
      ],
      "metadata": {
        "colab": {
          "base_uri": "https://localhost:8080/"
        },
        "id": "WGkh_nyuxTO6",
        "outputId": "1c454b76-0d2d-4d85-b295-dc07d48c8bba"
      },
      "execution_count": 85,
      "outputs": [
        {
          "output_type": "execute_result",
          "data": {
            "text/plain": [
              "1.168998114861667"
            ]
          },
          "metadata": {},
          "execution_count": 85
        }
      ]
    },
    {
      "cell_type": "code",
      "source": [
        "gamma_k[0] * xi_k[0]"
      ],
      "metadata": {
        "colab": {
          "base_uri": "https://localhost:8080/"
        },
        "id": "-Dungb05jl2O",
        "outputId": "d731e76f-3376-42d1-ff6f-aa188847db3f"
      },
      "execution_count": 81,
      "outputs": [
        {
          "output_type": "execute_result",
          "data": {
            "text/plain": [
              "0.9755629746125662"
            ]
          },
          "metadata": {},
          "execution_count": 81
        }
      ]
    },
    {
      "cell_type": "code",
      "source": [
        "gamma_k[1]"
      ],
      "metadata": {
        "colab": {
          "base_uri": "https://localhost:8080/"
        },
        "id": "bk_za-ZcxXIf",
        "outputId": "ba9ed4e3-cbc7-4097-ed5a-070d0b69b6a1"
      },
      "execution_count": 86,
      "outputs": [
        {
          "output_type": "execute_result",
          "data": {
            "text/plain": [
              "1.0642905154666222"
            ]
          },
          "metadata": {},
          "execution_count": 86
        }
      ]
    },
    {
      "cell_type": "code",
      "source": [
        "gamma_k[1] * xi_k[1]"
      ],
      "metadata": {
        "colab": {
          "base_uri": "https://localhost:8080/"
        },
        "id": "HdpHJ48rxzR2",
        "outputId": "a49007bf-6f37-4231-f7dc-fe485bb4f042"
      },
      "execution_count": 92,
      "outputs": [
        {
          "output_type": "execute_result",
          "data": {
            "text/plain": [
              "0.9760498951294948"
            ]
          },
          "metadata": {},
          "execution_count": 92
        }
      ]
    },
    {
      "cell_type": "code",
      "source": [
        "gamma_k[2]"
      ],
      "metadata": {
        "colab": {
          "base_uri": "https://localhost:8080/"
        },
        "id": "Ni-6z5zkxtle",
        "outputId": "d7915840-81e2-4e77-a42a-55887ddd4a9b"
      },
      "execution_count": 91,
      "outputs": [
        {
          "output_type": "execute_result",
          "data": {
            "text/plain": [
              "0.7754488898014046"
            ]
          },
          "metadata": {},
          "execution_count": 91
        }
      ]
    },
    {
      "cell_type": "code",
      "source": [
        "xi_k[2]"
      ],
      "metadata": {
        "colab": {
          "base_uri": "https://localhost:8080/"
        },
        "id": "lxoUnBGMxfOz",
        "outputId": "9be09913-4035-4373-c5cb-4a9a432c9ad3"
      },
      "execution_count": 90,
      "outputs": [
        {
          "output_type": "execute_result",
          "data": {
            "text/plain": [
              "1.2603140666606294"
            ]
          },
          "metadata": {},
          "execution_count": 90
        }
      ]
    },
    {
      "cell_type": "code",
      "source": [
        "xi_hat = list(map(lambda xi, gamma: xi * gamma if gamma > 1 else xi, xi_k, gamma_k))\n",
        "xi_hat"
      ],
      "metadata": {
        "colab": {
          "base_uri": "https://localhost:8080/"
        },
        "id": "4JMs7o91j4FL",
        "outputId": "8f6d5584-91f4-4fa5-815b-5ebfa79c018b"
      },
      "execution_count": 132,
      "outputs": [
        {
          "output_type": "execute_result",
          "data": {
            "text/plain": [
              "[0.5646747662135218,\n",
              " 0.8884320964579407,\n",
              " 0.9509937500137526,\n",
              " 1.7066091821211067]"
            ]
          },
          "metadata": {},
          "execution_count": 132
        }
      ]
    },
    {
      "cell_type": "markdown",
      "source": [
        "Calculo del Estimador RIE (primero a mano)"
      ],
      "metadata": {
        "id": "vjvAlI_zm4Cn"
      }
    },
    {
      "cell_type": "code",
      "source": [
        "RIE_orig = xi_hat[0]* (u_ks[0].reshape(-1, 1) @ u_ks[0].reshape(-1, 1).T) +xi_hat[1]* (u_ks[1].reshape(-1, 1) @ u_ks[1].reshape(-1, 1).T)+xi_hat[2]* (u_ks[2].reshape(-1, 1) @ u_ks[2].reshape(-1, 1).T)\n",
        "RIE_orig"
      ],
      "metadata": {
        "colab": {
          "base_uri": "https://localhost:8080/"
        },
        "id": "HB_c5S8-m3LP",
        "outputId": "6633b8fe-78b1-4792-af7d-c585bef26a26"
      },
      "execution_count": 133,
      "outputs": [
        {
          "output_type": "execute_result",
          "data": {
            "text/plain": [
              "array([[ 0.4331527 ,  0.15522283, -0.13321822,  0.42100596],\n",
              "       [ 0.15522283,  0.612266  ,  0.02962295,  0.04585449],\n",
              "       [-0.13321822,  0.02962295,  0.86178312,  0.09042687],\n",
              "       [ 0.42100596,  0.04585449,  0.09042687,  0.4968988 ]])"
            ]
          },
          "metadata": {},
          "execution_count": 133
        }
      ]
    },
    {
      "cell_type": "code",
      "source": [
        "RIE_estimator = np.zeros((N, N), dtype=float)\n",
        "for xi, u_i in zip(xi_hat, u_ks):\n",
        "  RIE_estimator += xi*(u_i.reshape(-1, 1) @ u_i.reshape(-1, 1).T)\n",
        "RIE_estimator"
      ],
      "metadata": {
        "colab": {
          "base_uri": "https://localhost:8080/"
        },
        "id": "rUNVsuFppGiI",
        "outputId": "ecbf0c4c-6d07-4beb-9323-2004e650f1b5"
      },
      "execution_count": 134,
      "outputs": [
        {
          "output_type": "execute_result",
          "data": {
            "text/plain": [
              "array([[ 1.34594499, -0.02756689,  0.0979636 , -0.3775758 ],\n",
              "       [-0.02756689,  0.64887025, -0.01667199,  0.20577317],\n",
              "       [ 0.0979636 , -0.01667199,  0.92033427, -0.11182898],\n",
              "       [-0.3775758 ,  0.20577317, -0.11182898,  1.19556028]])"
            ]
          },
          "metadata": {},
          "execution_count": 134
        }
      ]
    },
    {
      "cell_type": "code",
      "source": [
        "E"
      ],
      "metadata": {
        "colab": {
          "base_uri": "https://localhost:8080/"
        },
        "id": "_zsT_cCgvj6C",
        "outputId": "510a9da1-5fe5-4ee3-cb7a-796d9f0b1c6d"
      },
      "execution_count": 135,
      "outputs": [
        {
          "output_type": "execute_result",
          "data": {
            "text/plain": [
              "array([[1.        , 0.09057772, 0.15349283, 0.25650061],\n",
              "       [0.09057772, 1.        , 0.11207266, 0.14639934],\n",
              "       [0.15349283, 0.11207266, 1.        , 0.52523822],\n",
              "       [0.25650061, 0.14639934, 0.52523822, 1.        ]])"
            ]
          },
          "metadata": {},
          "execution_count": 135
        }
      ]
    },
    {
      "cell_type": "markdown",
      "source": [
        "\n",
        "\n",
        "---\n",
        "\n",
        "Por último, verifico que se cumpla que los vectores propios del RIE y de E sean los mismos. Vectores propios del RIE:"
      ],
      "metadata": {
        "id": "8-NYHKQEtCHp"
      }
    },
    {
      "cell_type": "code",
      "source": [
        "LA.eigh(RIE_estimator)[1]"
      ],
      "metadata": {
        "colab": {
          "base_uri": "https://localhost:8080/"
        },
        "id": "D_02MzGUoUmJ",
        "outputId": "acb9e795-b90a-4049-8096-7e5d4d1c1b21"
      },
      "execution_count": 136,
      "outputs": [
        {
          "output_type": "execute_result",
          "data": {
            "text/plain": [
              "array([[-0.15363638,  0.03495099,  0.66356389, -0.73133936],\n",
              "       [ 0.9052618 ,  0.16688328,  0.36221888,  0.14645316],\n",
              "       [-0.03918123,  0.94602534, -0.26304453, -0.18522545],\n",
              "       [-0.39415957,  0.2756165 ,  0.59940639,  0.6398326 ]])"
            ]
          },
          "metadata": {},
          "execution_count": 136
        }
      ]
    },
    {
      "cell_type": "markdown",
      "source": [
        "Valores propios de E:"
      ],
      "metadata": {
        "id": "36lKfY8FyQv9"
      }
    },
    {
      "cell_type": "code",
      "source": [
        "u_ks.T"
      ],
      "metadata": {
        "colab": {
          "base_uri": "https://localhost:8080/"
        },
        "id": "QCsaMGvRoYc1",
        "outputId": "2cfb1349-ac76-45ed-a0e0-b9ddf99a0446"
      },
      "execution_count": 137,
      "outputs": [
        {
          "output_type": "execute_result",
          "data": {
            "text/plain": [
              "array([[-0.15363638, -0.03495099, -0.66356389,  0.73133936],\n",
              "       [ 0.9052618 , -0.16688328, -0.36221888, -0.14645316],\n",
              "       [-0.03918123, -0.94602534,  0.26304453,  0.18522545],\n",
              "       [-0.39415957, -0.2756165 , -0.59940639, -0.6398326 ]])"
            ]
          },
          "metadata": {},
          "execution_count": 137
        }
      ]
    }
  ]
}